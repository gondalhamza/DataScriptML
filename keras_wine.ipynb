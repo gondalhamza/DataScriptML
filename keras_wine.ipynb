{
  "nbformat": 4,
  "nbformat_minor": 0,
  "metadata": {
    "colab": {
      "name": "keras-wine",
      "provenance": [],
      "collapsed_sections": []
    },
    "kernelspec": {
      "name": "python3",
      "display_name": "Python 3"
    }
  },
  "cells": [
    {
      "cell_type": "code",
      "metadata": {
        "id": "E-W0up7NyCbs",
        "colab_type": "code",
        "colab": {}
      },
      "source": [
        "import keras"
      ],
      "execution_count": 0,
      "outputs": []
    },
    {
      "cell_type": "code",
      "metadata": {
        "id": "S0XNo6mhyhyG",
        "colab_type": "code",
        "colab": {}
      },
      "source": [
        "from keras.datasets import mnist\n",
        "\n",
        "# Import pandas \n",
        "import pandas as pd"
      ],
      "execution_count": 0,
      "outputs": []
    },
    {
      "cell_type": "code",
      "metadata": {
        "id": "KCuNVdq_ylGj",
        "colab_type": "code",
        "outputId": "e047dab2-5f00-43f6-9cd9-1a9c710b65a7",
        "colab": {
          "base_uri": "https://localhost:8080/",
          "height": 34
        }
      },
      "source": [
        "keras.backend.backend()"
      ],
      "execution_count": 59,
      "outputs": [
        {
          "output_type": "execute_result",
          "data": {
            "text/plain": [
              "'tensorflow'"
            ]
          },
          "metadata": {
            "tags": []
          },
          "execution_count": 59
        }
      ]
    },
    {
      "cell_type": "code",
      "metadata": {
        "id": "PGt2WVfNRqnQ",
        "colab_type": "code",
        "colab": {}
      },
      "source": [
        "# Read in white wine data \n",
        "white = pd.read_csv(\"http://archive.ics.uci.edu/ml/machine-learning-databases/wine-quality/winequality-white.csv\", sep=';')\n",
        "\n",
        "# Read in red wine data \n",
        "red = pd.read_csv(\"http://archive.ics.uci.edu/ml/machine-learning-databases/wine-quality/winequality-red.csv\", sep=';')"
      ],
      "execution_count": 0,
      "outputs": []
    },
    {
      "cell_type": "code",
      "metadata": {
        "id": "Opvi70Rc-7ED",
        "colab_type": "code",
        "outputId": "251f471a-54dd-47f0-b0b4-7edb55ab4705",
        "colab": {
          "base_uri": "https://localhost:8080/",
          "height": 697
        }
      },
      "source": [
        "#Data exploration\n",
        "# Print info on white wine\n",
        "print(white.info())\n",
        "\n",
        "# Print info on red wine\n",
        "print(red.info())"
      ],
      "execution_count": 61,
      "outputs": [
        {
          "output_type": "stream",
          "text": [
            "<class 'pandas.core.frame.DataFrame'>\n",
            "RangeIndex: 4898 entries, 0 to 4897\n",
            "Data columns (total 12 columns):\n",
            " #   Column                Non-Null Count  Dtype  \n",
            "---  ------                --------------  -----  \n",
            " 0   fixed acidity         4898 non-null   float64\n",
            " 1   volatile acidity      4898 non-null   float64\n",
            " 2   citric acid           4898 non-null   float64\n",
            " 3   residual sugar        4898 non-null   float64\n",
            " 4   chlorides             4898 non-null   float64\n",
            " 5   free sulfur dioxide   4898 non-null   float64\n",
            " 6   total sulfur dioxide  4898 non-null   float64\n",
            " 7   density               4898 non-null   float64\n",
            " 8   pH                    4898 non-null   float64\n",
            " 9   sulphates             4898 non-null   float64\n",
            " 10  alcohol               4898 non-null   float64\n",
            " 11  quality               4898 non-null   int64  \n",
            "dtypes: float64(11), int64(1)\n",
            "memory usage: 459.3 KB\n",
            "None\n",
            "<class 'pandas.core.frame.DataFrame'>\n",
            "RangeIndex: 1599 entries, 0 to 1598\n",
            "Data columns (total 12 columns):\n",
            " #   Column                Non-Null Count  Dtype  \n",
            "---  ------                --------------  -----  \n",
            " 0   fixed acidity         1599 non-null   float64\n",
            " 1   volatile acidity      1599 non-null   float64\n",
            " 2   citric acid           1599 non-null   float64\n",
            " 3   residual sugar        1599 non-null   float64\n",
            " 4   chlorides             1599 non-null   float64\n",
            " 5   free sulfur dioxide   1599 non-null   float64\n",
            " 6   total sulfur dioxide  1599 non-null   float64\n",
            " 7   density               1599 non-null   float64\n",
            " 8   pH                    1599 non-null   float64\n",
            " 9   sulphates             1599 non-null   float64\n",
            " 10  alcohol               1599 non-null   float64\n",
            " 11  quality               1599 non-null   int64  \n",
            "dtypes: float64(11), int64(1)\n",
            "memory usage: 150.0 KB\n",
            "None\n"
          ],
          "name": "stdout"
        }
      ]
    },
    {
      "cell_type": "code",
      "metadata": {
        "id": "eOyIHqpZ_CJo",
        "colab_type": "code",
        "outputId": "088a7c34-3a6f-445b-aa55-7ca56c26b208",
        "colab": {
          "base_uri": "https://localhost:8080/",
          "height": 419
        }
      },
      "source": [
        "# First rows of `red` \n",
        "red.head()\n",
        "\n",
        "# Last rows of `white`\n",
        "white.tail()\n",
        "\n",
        "# Take a sample of 5 rows of `red`\n",
        "red.sample(5)\n",
        "\n",
        "# Describe `white`\n",
        "white.describe()\n",
        "\n",
        "# Double check for null values in `red`\n",
        "pd.isnull(red)"
      ],
      "execution_count": 62,
      "outputs": [
        {
          "output_type": "execute_result",
          "data": {
            "text/html": [
              "<div>\n",
              "<style scoped>\n",
              "    .dataframe tbody tr th:only-of-type {\n",
              "        vertical-align: middle;\n",
              "    }\n",
              "\n",
              "    .dataframe tbody tr th {\n",
              "        vertical-align: top;\n",
              "    }\n",
              "\n",
              "    .dataframe thead th {\n",
              "        text-align: right;\n",
              "    }\n",
              "</style>\n",
              "<table border=\"1\" class=\"dataframe\">\n",
              "  <thead>\n",
              "    <tr style=\"text-align: right;\">\n",
              "      <th></th>\n",
              "      <th>fixed acidity</th>\n",
              "      <th>volatile acidity</th>\n",
              "      <th>citric acid</th>\n",
              "      <th>residual sugar</th>\n",
              "      <th>chlorides</th>\n",
              "      <th>free sulfur dioxide</th>\n",
              "      <th>total sulfur dioxide</th>\n",
              "      <th>density</th>\n",
              "      <th>pH</th>\n",
              "      <th>sulphates</th>\n",
              "      <th>alcohol</th>\n",
              "      <th>quality</th>\n",
              "    </tr>\n",
              "  </thead>\n",
              "  <tbody>\n",
              "    <tr>\n",
              "      <th>0</th>\n",
              "      <td>False</td>\n",
              "      <td>False</td>\n",
              "      <td>False</td>\n",
              "      <td>False</td>\n",
              "      <td>False</td>\n",
              "      <td>False</td>\n",
              "      <td>False</td>\n",
              "      <td>False</td>\n",
              "      <td>False</td>\n",
              "      <td>False</td>\n",
              "      <td>False</td>\n",
              "      <td>False</td>\n",
              "    </tr>\n",
              "    <tr>\n",
              "      <th>1</th>\n",
              "      <td>False</td>\n",
              "      <td>False</td>\n",
              "      <td>False</td>\n",
              "      <td>False</td>\n",
              "      <td>False</td>\n",
              "      <td>False</td>\n",
              "      <td>False</td>\n",
              "      <td>False</td>\n",
              "      <td>False</td>\n",
              "      <td>False</td>\n",
              "      <td>False</td>\n",
              "      <td>False</td>\n",
              "    </tr>\n",
              "    <tr>\n",
              "      <th>2</th>\n",
              "      <td>False</td>\n",
              "      <td>False</td>\n",
              "      <td>False</td>\n",
              "      <td>False</td>\n",
              "      <td>False</td>\n",
              "      <td>False</td>\n",
              "      <td>False</td>\n",
              "      <td>False</td>\n",
              "      <td>False</td>\n",
              "      <td>False</td>\n",
              "      <td>False</td>\n",
              "      <td>False</td>\n",
              "    </tr>\n",
              "    <tr>\n",
              "      <th>3</th>\n",
              "      <td>False</td>\n",
              "      <td>False</td>\n",
              "      <td>False</td>\n",
              "      <td>False</td>\n",
              "      <td>False</td>\n",
              "      <td>False</td>\n",
              "      <td>False</td>\n",
              "      <td>False</td>\n",
              "      <td>False</td>\n",
              "      <td>False</td>\n",
              "      <td>False</td>\n",
              "      <td>False</td>\n",
              "    </tr>\n",
              "    <tr>\n",
              "      <th>4</th>\n",
              "      <td>False</td>\n",
              "      <td>False</td>\n",
              "      <td>False</td>\n",
              "      <td>False</td>\n",
              "      <td>False</td>\n",
              "      <td>False</td>\n",
              "      <td>False</td>\n",
              "      <td>False</td>\n",
              "      <td>False</td>\n",
              "      <td>False</td>\n",
              "      <td>False</td>\n",
              "      <td>False</td>\n",
              "    </tr>\n",
              "    <tr>\n",
              "      <th>...</th>\n",
              "      <td>...</td>\n",
              "      <td>...</td>\n",
              "      <td>...</td>\n",
              "      <td>...</td>\n",
              "      <td>...</td>\n",
              "      <td>...</td>\n",
              "      <td>...</td>\n",
              "      <td>...</td>\n",
              "      <td>...</td>\n",
              "      <td>...</td>\n",
              "      <td>...</td>\n",
              "      <td>...</td>\n",
              "    </tr>\n",
              "    <tr>\n",
              "      <th>1594</th>\n",
              "      <td>False</td>\n",
              "      <td>False</td>\n",
              "      <td>False</td>\n",
              "      <td>False</td>\n",
              "      <td>False</td>\n",
              "      <td>False</td>\n",
              "      <td>False</td>\n",
              "      <td>False</td>\n",
              "      <td>False</td>\n",
              "      <td>False</td>\n",
              "      <td>False</td>\n",
              "      <td>False</td>\n",
              "    </tr>\n",
              "    <tr>\n",
              "      <th>1595</th>\n",
              "      <td>False</td>\n",
              "      <td>False</td>\n",
              "      <td>False</td>\n",
              "      <td>False</td>\n",
              "      <td>False</td>\n",
              "      <td>False</td>\n",
              "      <td>False</td>\n",
              "      <td>False</td>\n",
              "      <td>False</td>\n",
              "      <td>False</td>\n",
              "      <td>False</td>\n",
              "      <td>False</td>\n",
              "    </tr>\n",
              "    <tr>\n",
              "      <th>1596</th>\n",
              "      <td>False</td>\n",
              "      <td>False</td>\n",
              "      <td>False</td>\n",
              "      <td>False</td>\n",
              "      <td>False</td>\n",
              "      <td>False</td>\n",
              "      <td>False</td>\n",
              "      <td>False</td>\n",
              "      <td>False</td>\n",
              "      <td>False</td>\n",
              "      <td>False</td>\n",
              "      <td>False</td>\n",
              "    </tr>\n",
              "    <tr>\n",
              "      <th>1597</th>\n",
              "      <td>False</td>\n",
              "      <td>False</td>\n",
              "      <td>False</td>\n",
              "      <td>False</td>\n",
              "      <td>False</td>\n",
              "      <td>False</td>\n",
              "      <td>False</td>\n",
              "      <td>False</td>\n",
              "      <td>False</td>\n",
              "      <td>False</td>\n",
              "      <td>False</td>\n",
              "      <td>False</td>\n",
              "    </tr>\n",
              "    <tr>\n",
              "      <th>1598</th>\n",
              "      <td>False</td>\n",
              "      <td>False</td>\n",
              "      <td>False</td>\n",
              "      <td>False</td>\n",
              "      <td>False</td>\n",
              "      <td>False</td>\n",
              "      <td>False</td>\n",
              "      <td>False</td>\n",
              "      <td>False</td>\n",
              "      <td>False</td>\n",
              "      <td>False</td>\n",
              "      <td>False</td>\n",
              "    </tr>\n",
              "  </tbody>\n",
              "</table>\n",
              "<p>1599 rows × 12 columns</p>\n",
              "</div>"
            ],
            "text/plain": [
              "      fixed acidity  volatile acidity  citric acid  ...  sulphates  alcohol  quality\n",
              "0             False             False        False  ...      False    False    False\n",
              "1             False             False        False  ...      False    False    False\n",
              "2             False             False        False  ...      False    False    False\n",
              "3             False             False        False  ...      False    False    False\n",
              "4             False             False        False  ...      False    False    False\n",
              "...             ...               ...          ...  ...        ...      ...      ...\n",
              "1594          False             False        False  ...      False    False    False\n",
              "1595          False             False        False  ...      False    False    False\n",
              "1596          False             False        False  ...      False    False    False\n",
              "1597          False             False        False  ...      False    False    False\n",
              "1598          False             False        False  ...      False    False    False\n",
              "\n",
              "[1599 rows x 12 columns]"
            ]
          },
          "metadata": {
            "tags": []
          },
          "execution_count": 62
        }
      ]
    },
    {
      "cell_type": "code",
      "metadata": {
        "id": "x9ipOUse_K6k",
        "colab_type": "code",
        "outputId": "fcd68c17-8c76-41ea-d59c-d8286e3c8275",
        "colab": {
          "base_uri": "https://localhost:8080/",
          "height": 344
        }
      },
      "source": [
        "#Visualization\n",
        "#Alcohol\n",
        "import matplotlib.pyplot as plt\n",
        "\n",
        "fig, ax = plt.subplots(1, 2)\n",
        "\n",
        "ax[0].hist(red.alcohol, 10, facecolor='red', alpha=0.5, label=\"Red wine\")\n",
        "ax[1].hist(white.alcohol, 10, facecolor='white', ec=\"black\", lw=0.5, alpha=0.5, label=\"White wine\")\n",
        "\n",
        "fig.subplots_adjust(left=0, right=1, bottom=0, top=0.5, hspace=0.05, wspace=1)\n",
        "ax[0].set_ylim([0, 1000])\n",
        "ax[0].set_xlabel(\"Alcohol in % Vol\")\n",
        "ax[0].set_ylabel(\"Frequency\")\n",
        "ax[1].set_xlabel(\"Alcohol in % Vol\")\n",
        "ax[1].set_ylabel(\"Frequency\")\n",
        "#ax[0].legend(loc='best')\n",
        "#ax[1].legend(loc='best')\n",
        "fig.suptitle(\"Distribution of Alcohol in % Vol\")\n",
        "\n",
        "plt.show()"
      ],
      "execution_count": 63,
      "outputs": [
        {
          "output_type": "display_data",
          "data": {
            "image/png": "[encoded data removed]",
            "text/plain": [
              "<Figure size 432x288 with 2 Axes>"
            ]
          },
          "metadata": {
            "tags": [],
            "needs_background": "light"
          }
        }
      ]
    },
    {
      "cell_type": "code",
      "metadata": {
        "id": "GPBWfKcr_dic",
        "colab_type": "code",
        "outputId": "bfbc3187-7403-471c-eb03-c34e43e10031",
        "colab": {
          "base_uri": "https://localhost:8080/",
          "height": 308
        }
      },
      "source": [
        "# Sulphates %\n",
        "\n",
        "fig, ax = plt.subplots(1, 2, figsize=(8, 4))\n",
        "\n",
        "ax[0].scatter(red['quality'], red[\"sulphates\"], color=\"red\")\n",
        "ax[1].scatter(white['quality'], white['sulphates'], color=\"white\", edgecolors=\"black\", lw=0.5)\n",
        "\n",
        "ax[0].set_title(\"Red Wine\")\n",
        "ax[1].set_title(\"White Wine\")\n",
        "ax[0].set_xlabel(\"Quality\")\n",
        "ax[1].set_xlabel(\"Quality\")\n",
        "ax[0].set_ylabel(\"Sulphates\")\n",
        "ax[1].set_ylabel(\"Sulphates\")\n",
        "ax[0].set_xlim([0,10])\n",
        "ax[1].set_xlim([0,10])\n",
        "ax[0].set_ylim([0,2.5])\n",
        "ax[1].set_ylim([0,2.5])\n",
        "fig.subplots_adjust(wspace=0.5)\n",
        "fig.suptitle(\"Wine Quality by Amount of Sulphates\")\n",
        "\n",
        "plt.show()"
      ],
      "execution_count": 64,
      "outputs": [
        {
          "output_type": "display_data",
          "data": {
            "image/png": "[encoded data removed]",
            "text/plain": [
              "<Figure size 576x288 with 2 Axes>"
            ]
          },
          "metadata": {
            "tags": [],
            "needs_background": "light"
          }
        }
      ]
    },
    {
      "cell_type": "code",
      "metadata": {
        "id": "092g-36XAtiO",
        "colab_type": "code",
        "outputId": "4e965b52-9105-403d-aa17-156a6a12a80d",
        "colab": {
          "base_uri": "https://localhost:8080/",
          "height": 528
        }
      },
      "source": [
        "#Acidity\n",
        "import numpy as np\n",
        "\n",
        "np.random.seed(570)\n",
        "\n",
        "redlabels = np.unique(red['quality'])\n",
        "whitelabels = np.unique(white['quality'])\n",
        "\n",
        "import matplotlib.pyplot as plt\n",
        "fig, ax = plt.subplots(1, 2, figsize=(8, 4))\n",
        "redcolors = np.random.rand(6,4)\n",
        "whitecolors = np.append(redcolors, np.random.rand(1,4), axis=0)\n",
        "\n",
        "for i in range(len(redcolors)):\n",
        "    redy = red['alcohol'][red.quality == redlabels[i]]\n",
        "    redx = red['volatile acidity'][red.quality == redlabels[i]]\n",
        "    ax[0].scatter(redx, redy, c=redcolors[i])\n",
        "for i in range(len(whitecolors)):\n",
        "    whitey = white['alcohol'][white.quality == whitelabels[i]]\n",
        "    whitex = white['volatile acidity'][white.quality == whitelabels[i]]\n",
        "    ax[1].scatter(whitex, whitey, c=whitecolors[i])\n",
        "    \n",
        "ax[0].set_title(\"Red Wine\")\n",
        "ax[1].set_title(\"White Wine\")\n",
        "ax[0].set_xlim([0,1.7])\n",
        "ax[1].set_xlim([0,1.7])\n",
        "ax[0].set_ylim([5,15.5])\n",
        "ax[1].set_ylim([5,15.5])\n",
        "ax[0].set_xlabel(\"Volatile Acidity\")\n",
        "ax[0].set_ylabel(\"Alcohol\")\n",
        "ax[1].set_xlabel(\"Volatile Acidity\")\n",
        "ax[1].set_ylabel(\"Alcohol\") \n",
        "#ax[0].legend(redlabels, loc='best', bbox_to_anchor=(1.3, 1))\n",
        "ax[1].legend(whitelabels, loc='best', bbox_to_anchor=(1.3, 1))\n",
        "#fig.suptitle(\"Alcohol - Volatile Acidity\")\n",
        "fig.subplots_adjust(top=0.85, wspace=0.7)\n",
        "\n",
        "plt.show()"
      ],
      "execution_count": 65,
      "outputs": [
        {
          "output_type": "stream",
          "text": [
            "'c' argument looks like a single numeric RGB or RGBA sequence, which should be avoided as value-mapping will have precedence in case its length matches with 'x' & 'y'.  Please use a 2-D array with a single row if you really want to specify the same RGB or RGBA value for all points.\n",
            "'c' argument looks like a single numeric RGB or RGBA sequence, which should be avoided as value-mapping will have precedence in case its length matches with 'x' & 'y'.  Please use a 2-D array with a single row if you really want to specify the same RGB or RGBA value for all points.\n",
            "'c' argument looks like a single numeric RGB or RGBA sequence, which should be avoided as value-mapping will have precedence in case its length matches with 'x' & 'y'.  Please use a 2-D array with a single row if you really want to specify the same RGB or RGBA value for all points.\n",
            "'c' argument looks like a single numeric RGB or RGBA sequence, which should be avoided as value-mapping will have precedence in case its length matches with 'x' & 'y'.  Please use a 2-D array with a single row if you really want to specify the same RGB or RGBA value for all points.\n",
            "'c' argument looks like a single numeric RGB or RGBA sequence, which should be avoided as value-mapping will have precedence in case its length matches with 'x' & 'y'.  Please use a 2-D array with a single row if you really want to specify the same RGB or RGBA value for all points.\n",
            "'c' argument looks like a single numeric RGB or RGBA sequence, which should be avoided as value-mapping will have precedence in case its length matches with 'x' & 'y'.  Please use a 2-D array with a single row if you really want to specify the same RGB or RGBA value for all points.\n",
            "'c' argument looks like a single numeric RGB or RGBA sequence, which should be avoided as value-mapping will have precedence in case its length matches with 'x' & 'y'.  Please use a 2-D array with a single row if you really want to specify the same RGB or RGBA value for all points.\n",
            "'c' argument looks like a single numeric RGB or RGBA sequence, which should be avoided as value-mapping will have precedence in case its length matches with 'x' & 'y'.  Please use a 2-D array with a single row if you really want to specify the same RGB or RGBA value for all points.\n",
            "'c' argument looks like a single numeric RGB or RGBA sequence, which should be avoided as value-mapping will have precedence in case its length matches with 'x' & 'y'.  Please use a 2-D array with a single row if you really want to specify the same RGB or RGBA value for all points.\n",
            "'c' argument looks like a single numeric RGB or RGBA sequence, which should be avoided as value-mapping will have precedence in case its length matches with 'x' & 'y'.  Please use a 2-D array with a single row if you really want to specify the same RGB or RGBA value for all points.\n",
            "'c' argument looks like a single numeric RGB or RGBA sequence, which should be avoided as value-mapping will have precedence in case its length matches with 'x' & 'y'.  Please use a 2-D array with a single row if you really want to specify the same RGB or RGBA value for all points.\n",
            "'c' argument looks like a single numeric RGB or RGBA sequence, which should be avoided as value-mapping will have precedence in case its length matches with 'x' & 'y'.  Please use a 2-D array with a single row if you really want to specify the same RGB or RGBA value for all points.\n",
            "'c' argument looks like a single numeric RGB or RGBA sequence, which should be avoided as value-mapping will have precedence in case its length matches with 'x' & 'y'.  Please use a 2-D array with a single row if you really want to specify the same RGB or RGBA value for all points.\n"
          ],
          "name": "stderr"
        },
        {
          "output_type": "display_data",
          "data": {
            "image/png": "[encoded data removed]",
            "text/plain": [
              "<Figure size 576x288 with 2 Axes>"
            ]
          },
          "metadata": {
            "tags": [],
            "needs_background": "light"
          }
        }
      ]
    },
    {
      "cell_type": "markdown",
      "metadata": {
        "id": "-WEMhaxTA3eC",
        "colab_type": "text"
      },
      "source": [
        "Preprocess Data\n"
      ]
    },
    {
      "cell_type": "code",
      "metadata": {
        "id": "xGwnmKqZA6Qy",
        "colab_type": "code",
        "colab": {}
      },
      "source": [
        "# Add `type` column to `red` with value 1\n",
        "red['type'] = 1\n",
        "\n",
        "# Add `type` column to `white` with value 0\n",
        "white['type'] = 0\n",
        "\n",
        "# Append `white` to `red`\n",
        "wines = red.append(white, ignore_index=True)"
      ],
      "execution_count": 0,
      "outputs": []
    },
    {
      "cell_type": "code",
      "metadata": {
        "id": "GnRn1BzqBF90",
        "colab_type": "code",
        "outputId": "27d2158f-c499-4095-d70d-a572fd6926e9",
        "colab": {
          "base_uri": "https://localhost:8080/",
          "height": 370
        }
      },
      "source": [
        "#Corelation Matrix\n",
        "import seaborn as sns\n",
        "corr = wines.corr()\n",
        "sns.heatmap(corr, \n",
        "            xticklabels=corr.columns.values,\n",
        "            yticklabels=corr.columns.values)\n",
        "#sns.plt.show()"
      ],
      "execution_count": 67,
      "outputs": [
        {
          "output_type": "execute_result",
          "data": {
            "text/plain": [
              "<matplotlib.axes._subplots.AxesSubplot at 0x7f7ab271e710>"
            ]
          },
          "metadata": {
            "tags": []
          },
          "execution_count": 67
        },
        {
          "output_type": "display_data",
          "data": {
            "image/png": "[encoded data removed]",
            "text/plain": [
              "<Figure size 432x288 with 2 Axes>"
            ]
          },
          "metadata": {
            "tags": [],
            "needs_background": "light"
          }
        }
      ]
    },
    {
      "cell_type": "code",
      "metadata": {
        "id": "q06DVHGqBWP6",
        "colab_type": "code",
        "colab": {}
      },
      "source": [
        "# TRain and Test Sets\n",
        "# Import `train_test_split` from `sklearn.model_selection`\n",
        "from sklearn.model_selection import train_test_split\n",
        "\n",
        "# Specify the data \n",
        "# X=wines.iloc[:,0:11]\n",
        "X=wines.loc[:, wines.columns != 'quality']\n",
        "\n",
        "# Specify the target labels and flatten the array\n",
        "y= np.ravel(wines.quality)\n",
        "\n",
        "# Split the data up in train and test sets\n",
        "X_train, X_test, y_train, y_test = train_test_split(X, y, test_size=0.33, random_state=42)"
      ],
      "execution_count": 0,
      "outputs": []
    },
    {
      "cell_type": "code",
      "metadata": {
        "id": "1fubZSJGBu7v",
        "colab_type": "code",
        "colab": {}
      },
      "source": [
        "#Standardize Data\n",
        "# Import `StandardScaler` from `sklearn.preprocessing`\n",
        "from sklearn.preprocessing import StandardScaler\n",
        "\n",
        "# Define the scaler \n",
        "scaler = StandardScaler().fit(X_train)\n",
        "\n",
        "# Scale the train set\n",
        "X_train = scaler.transform(X_train)\n",
        "\n",
        "# Scale the test set\n",
        "X_test = scaler.transform(X_test)"
      ],
      "execution_count": 0,
      "outputs": []
    },
    {
      "cell_type": "markdown",
      "metadata": {
        "id": "dFLCzmmrB02b",
        "colab_type": "text"
      },
      "source": [
        "Model Data"
      ]
    },
    {
      "cell_type": "code",
      "metadata": {
        "id": "lUm8D9-QB5g5",
        "colab_type": "code",
        "colab": {}
      },
      "source": [
        "import tensorflow as tf\n",
        "# Import `Sequential` from `keras.models`\n",
        "from tensorflow.keras.models import Sequential\n",
        "\n",
        "# Import `Dense` from `keras.layers`\n",
        "from tensorflow.keras.layers import Dense\n",
        "\n",
        "# Initialize the constructor\n",
        "model = Sequential()\n",
        "\n",
        "# Add an input layer \n",
        "model.add(Dense(164, activation='relu', input_shape=(12,)))\n",
        "\n",
        "# Add one hidden layer \n",
        "model.add(Dense(64, activation='relu'))\n",
        "\n",
        "# Add an output layer \n",
        "model.add(Dense(10, activation='softmax'))"
      ],
      "execution_count": 0,
      "outputs": []
    },
    {
      "cell_type": "code",
      "metadata": {
        "id": "ONPuIJDyH6_w",
        "colab_type": "code",
        "outputId": "3fe9616d-c630-4e29-934f-3474a465835e",
        "colab": {
          "base_uri": "https://localhost:8080/",
          "height": 1000
        }
      },
      "source": [
        "# Model output shape\n",
        "model.output_shape\n",
        "\n",
        "# Model summary\n",
        "model.summary()\n",
        "\n",
        "# Model config\n",
        "model.get_config()\n",
        "\n",
        "# List all weight tensors \n",
        "model.get_weights()"
      ],
      "execution_count": 71,
      "outputs": [
        {
          "output_type": "stream",
          "text": [
            "Model: \"sequential_52\"\n",
            "_________________________________________________________________\n",
            "Layer (type)                 Output Shape              Param #   \n",
            "=================================================================\n",
            "dense_182 (Dense)            (None, 164)               2132      \n",
            "_________________________________________________________________\n",
            "dense_183 (Dense)            (None, 64)                10560     \n",
            "_________________________________________________________________\n",
            "dense_184 (Dense)            (None, 10)                650       \n",
            "=================================================================\n",
            "Total params: 13,342\n",
            "Trainable params: 13,342\n",
            "Non-trainable params: 0\n",
            "_________________________________________________________________\n"
          ],
          "name": "stdout"
        },
        {
          "output_type": "execute_result",
          "data": {
            "text/plain": [
              "[array([[ 0.08275063,  0.02897124, -0.15270466, ..., -0.00282557,\n",
              "         -0.12820731,  0.11472695],\n",
              "        [ 0.11907406, -0.15194806,  0.03540468, ...,  0.03290187,\n",
              "         -0.01894209, -0.12728468],\n",
              "        [-0.12084521, -0.02370894, -0.08629457, ..., -0.07674246,\n",
              "          0.02728057, -0.18420957],\n",
              "        ...,\n",
              "        [-0.05052315, -0.15178952,  0.00955263, ...,  0.03257436,\n",
              "          0.00439166, -0.11209934],\n",
              "        [ 0.12701924,  0.1843275 ,  0.1221378 , ..., -0.03582041,\n",
              "         -0.16695239, -0.18268742],\n",
              "        [ 0.00747858,  0.09004612, -0.0755185 , ...,  0.10360374,\n",
              "          0.03237689, -0.16135588]], dtype=float32),\n",
              " array([0., 0., 0., 0., 0., 0., 0., 0., 0., 0., 0., 0., 0., 0., 0., 0., 0.,\n",
              "        0., 0., 0., 0., 0., 0., 0., 0., 0., 0., 0., 0., 0., 0., 0., 0., 0.,\n",
              "        0., 0., 0., 0., 0., 0., 0., 0., 0., 0., 0., 0., 0., 0., 0., 0., 0.,\n",
              "        0., 0., 0., 0., 0., 0., 0., 0., 0., 0., 0., 0., 0., 0., 0., 0., 0.,\n",
              "        0., 0., 0., 0., 0., 0., 0., 0., 0., 0., 0., 0., 0., 0., 0., 0., 0.,\n",
              "        0., 0., 0., 0., 0., 0., 0., 0., 0., 0., 0., 0., 0., 0., 0., 0., 0.,\n",
              "        0., 0., 0., 0., 0., 0., 0., 0., 0., 0., 0., 0., 0., 0., 0., 0., 0.,\n",
              "        0., 0., 0., 0., 0., 0., 0., 0., 0., 0., 0., 0., 0., 0., 0., 0., 0.,\n",
              "        0., 0., 0., 0., 0., 0., 0., 0., 0., 0., 0., 0., 0., 0., 0., 0., 0.,\n",
              "        0., 0., 0., 0., 0., 0., 0., 0., 0., 0., 0.], dtype=float32),\n",
              " array([[ 0.08509417, -0.10858203,  0.12103389, ..., -0.05331716,\n",
              "          0.09524734, -0.1568135 ],\n",
              "        [ 0.09932156,  0.0463177 ,  0.15533511, ..., -0.00304918,\n",
              "          0.13785635,  0.03576873],\n",
              "        [-0.01854229, -0.08803235, -0.13249606, ..., -0.1382688 ,\n",
              "         -0.12806994, -0.12448895],\n",
              "        ...,\n",
              "        [-0.11782868,  0.07154718, -0.10315359, ...,  0.14132808,\n",
              "         -0.04136973, -0.08648374],\n",
              "        [-0.04263933, -0.11931623, -0.04213301, ..., -0.04218464,\n",
              "         -0.14184743,  0.08302802],\n",
              "        [ 0.10537665,  0.00724629,  0.04293717, ..., -0.04313477,\n",
              "          0.15818502,  0.06862339]], dtype=float32),\n",
              " array([0., 0., 0., 0., 0., 0., 0., 0., 0., 0., 0., 0., 0., 0., 0., 0., 0.,\n",
              "        0., 0., 0., 0., 0., 0., 0., 0., 0., 0., 0., 0., 0., 0., 0., 0., 0.,\n",
              "        0., 0., 0., 0., 0., 0., 0., 0., 0., 0., 0., 0., 0., 0., 0., 0., 0.,\n",
              "        0., 0., 0., 0., 0., 0., 0., 0., 0., 0., 0., 0., 0.], dtype=float32),\n",
              " array([[ 0.20164695,  0.11955816, -0.05744013, -0.22343874, -0.03210106,\n",
              "         -0.17021371,  0.2636877 ,  0.15925336,  0.21567407, -0.16917956],\n",
              "        [-0.20844197, -0.01643935, -0.03105742,  0.20547673, -0.0041891 ,\n",
              "          0.2460129 , -0.13182597,  0.00454232, -0.21243936,  0.17358324],\n",
              "        [ 0.19233102, -0.08782341,  0.02857348,  0.1837571 ,  0.09615338,\n",
              "         -0.19356076,  0.2432737 , -0.01701149,  0.2671683 ,  0.23925862],\n",
              "        [-0.23722851, -0.24730697, -0.21716009,  0.25842902, -0.28063738,\n",
              "         -0.06265849,  0.1233027 ,  0.1903272 , -0.05214125, -0.09542175],\n",
              "        [ 0.0482375 ,  0.13238546,  0.04800707, -0.24575225, -0.24244815,\n",
              "         -0.1822347 ,  0.23420581,  0.09297076, -0.19375682,  0.02417672],\n",
              "        [ 0.1620982 , -0.09593947, -0.1307701 ,  0.17365745, -0.05399904,\n",
              "          0.08796319, -0.25259873,  0.13307717, -0.1989204 , -0.13911529],\n",
              "        [ 0.03565738, -0.08993366, -0.01163822, -0.265188  , -0.02689582,\n",
              "          0.08993101,  0.21310318,  0.1523701 ,  0.03680885,  0.17099082],\n",
              "        [-0.28031042, -0.16827527,  0.01959836, -0.07123369, -0.2187119 ,\n",
              "          0.14977115,  0.1709615 , -0.07036078,  0.0601466 ,  0.17739367],\n",
              "        [-0.20687735,  0.02412513,  0.1874052 , -0.23474851,  0.17242804,\n",
              "         -0.18399912, -0.26355603, -0.16229758, -0.14176175, -0.10889773],\n",
              "        [ 0.14539823,  0.09342167,  0.00640452,  0.22388569, -0.0663598 ,\n",
              "          0.23980471,  0.10851118,  0.24826506, -0.15372793,  0.26122954],\n",
              "        [-0.23121299, -0.02512133,  0.2795374 ,  0.10452145, -0.03669682,\n",
              "         -0.14328232,  0.2844548 ,  0.1281679 , -0.00868484,  0.25992647],\n",
              "        [-0.05893199, -0.2814553 ,  0.10994321,  0.07543603,  0.07607704,\n",
              "         -0.20465037, -0.028258  ,  0.12284574, -0.27437755,  0.03787571],\n",
              "        [ 0.05387297, -0.17860296, -0.07463235, -0.07831669,  0.11118335,\n",
              "          0.18774763, -0.18245065, -0.10670267,  0.114288  , -0.27913338],\n",
              "        [-0.27224162,  0.12188157, -0.0497963 ,  0.10097778,  0.04862997,\n",
              "         -0.00706244,  0.01765776,  0.15566027,  0.21637693, -0.01842347],\n",
              "        [-0.23936063,  0.24258068,  0.1623311 ,  0.19668719,  0.04454243,\n",
              "          0.20811212, -0.02648768,  0.00614151,  0.17199561,  0.0221509 ],\n",
              "        [-0.11503409, -0.2020583 ,  0.2233406 , -0.12701285,  0.18180862,\n",
              "         -0.27145058,  0.18110198,  0.03832325, -0.11829643, -0.12740429],\n",
              "        [-0.02526215,  0.12046215,  0.04482532,  0.11493009,  0.13478547,\n",
              "          0.21140492, -0.0928918 , -0.21061477,  0.06257078,  0.09820107],\n",
              "        [-0.22319272, -0.08500968,  0.2750381 ,  0.17805463,  0.08264259,\n",
              "         -0.22475654, -0.21399292,  0.09590438, -0.08777615, -0.07652864],\n",
              "        [-0.1551348 , -0.0054462 ,  0.06393072, -0.09016395, -0.11654685,\n",
              "          0.18470713, -0.20751917,  0.14937809,  0.04393598,  0.20436138],\n",
              "        [ 0.01142064, -0.28404516,  0.17370951,  0.24521926, -0.07239744,\n",
              "          0.00711152, -0.0057762 ,  0.09846807, -0.02239877, -0.14149678],\n",
              "        [-0.20042564,  0.1183151 ,  0.07512963, -0.27426225, -0.11942807,\n",
              "          0.11788055, -0.15683101, -0.19876222, -0.26109594,  0.08243418],\n",
              "        [ 0.04223391, -0.0352907 ,  0.22953382,  0.01514864, -0.1250535 ,\n",
              "          0.1542938 , -0.16961262,  0.20244262, -0.14657806, -0.1276857 ],\n",
              "        [-0.0506449 , -0.12564549,  0.01031187, -0.21033302, -0.04387806,\n",
              "         -0.07194348, -0.0624367 , -0.05289075, -0.27132282,  0.1776287 ],\n",
              "        [-0.04769771, -0.27032796, -0.0295139 , -0.12424609, -0.03245762,\n",
              "         -0.08717187, -0.21600734, -0.19693254, -0.11213706,  0.13666892],\n",
              "        [ 0.19786003, -0.10822135,  0.06988332, -0.16382942,  0.2302191 ,\n",
              "         -0.23541254, -0.25981146,  0.17627335, -0.11992481,  0.02309954],\n",
              "        [-0.01941219, -0.10770065, -0.10935646, -0.02761957, -0.03423932,\n",
              "          0.1090382 , -0.21393685,  0.12786126, -0.19661999,  0.06764513],\n",
              "        [ 0.21976748,  0.14196005,  0.19959861, -0.15197524,  0.11405125,\n",
              "          0.07006186,  0.04044262,  0.19261521, -0.00362277, -0.22693713],\n",
              "        [ 0.25097308,  0.00513661, -0.25164333, -0.16246961, -0.24137917,\n",
              "         -0.24405964,  0.22526339, -0.22342713, -0.04495445,  0.06562525],\n",
              "        [-0.24824758, -0.06286779,  0.26862112,  0.14511967,  0.0255487 ,\n",
              "         -0.08916965, -0.01982319, -0.09441672,  0.08523899,  0.19953194],\n",
              "        [-0.24659109, -0.23933075,  0.13960695, -0.21803464, -0.1914179 ,\n",
              "          0.03013563, -0.15870062,  0.22191682, -0.09226355,  0.02151424],\n",
              "        [-0.10237114, -0.1580746 , -0.16014346,  0.14351782, -0.25517547,\n",
              "          0.0699833 ,  0.02458853,  0.07447851,  0.03908545, -0.22231959],\n",
              "        [ 0.13549164,  0.1852817 , -0.2506495 ,  0.1271897 ,  0.16867787,\n",
              "         -0.19162518,  0.05311492,  0.12200269, -0.00668979, -0.22932872],\n",
              "        [ 0.00205582,  0.09415582, -0.13901821,  0.01857722,  0.23998556,\n",
              "         -0.14009587, -0.21506715, -0.21185502, -0.07061081, -0.14908446],\n",
              "        [ 0.26549914,  0.13065013,  0.06918752, -0.23298171,  0.24027589,\n",
              "          0.17769223, -0.17033353, -0.08533995, -0.17732577,  0.20706654],\n",
              "        [-0.14490874, -0.04887232,  0.1847434 ,  0.14467847,  0.01402342,\n",
              "         -0.10878484, -0.09537464, -0.09134121, -0.04288083,  0.08332297],\n",
              "        [-0.00705564, -0.22054674, -0.15568246,  0.15127218, -0.14884943,\n",
              "          0.04243937, -0.13994415,  0.02797017, -0.08928818,  0.11611617],\n",
              "        [ 0.08118412, -0.12687021,  0.0200122 , -0.03034967, -0.1575344 ,\n",
              "         -0.12430264,  0.17113164, -0.17323926,  0.06432068, -0.17391115],\n",
              "        [-0.05187485,  0.27035853,  0.08264163,  0.201983  , -0.06971352,\n",
              "         -0.03619051,  0.12343815, -0.03690179, -0.25724024,  0.20670041],\n",
              "        [-0.25785482,  0.22973946,  0.12932059, -0.28367501, -0.1692932 ,\n",
              "          0.16695544, -0.21831569,  0.25933346,  0.19774306,  0.19051024],\n",
              "        [-0.05756545,  0.08840093,  0.1829527 ,  0.15289602,  0.11826268,\n",
              "         -0.1533039 ,  0.03602704, -0.24796122,  0.17876169, -0.22423297],\n",
              "        [-0.21502158,  0.24214461, -0.27840072,  0.05546835,  0.01741457,\n",
              "         -0.03276545, -0.05933179, -0.2688321 ,  0.22992536, -0.06984128],\n",
              "        [-0.1722529 , -0.18668306,  0.0063718 ,  0.18362215,  0.06794494,\n",
              "         -0.24903706,  0.2110346 ,  0.19460294,  0.0651947 ,  0.0673649 ],\n",
              "        [-0.03566051, -0.05209665, -0.10862516, -0.1697366 ,  0.13980499,\n",
              "          0.05572578,  0.06931549,  0.04342815, -0.09986693, -0.24031271],\n",
              "        [-0.01798782, -0.17236532,  0.23171857, -0.16687717, -0.0750889 ,\n",
              "          0.24753216,  0.25654915,  0.17325127,  0.03006896, -0.02841973],\n",
              "        [-0.23056601, -0.08982614, -0.10173646,  0.16103533, -0.17860806,\n",
              "         -0.0023303 ,  0.00378576,  0.22932836,  0.24967489, -0.12478589],\n",
              "        [ 0.06483412,  0.0934163 , -0.25428855,  0.20857584, -0.1765466 ,\n",
              "          0.06210378,  0.2304571 , -0.26945913,  0.11250007, -0.24269432],\n",
              "        [ 0.18332696, -0.22206724,  0.04916328, -0.23164096, -0.01719949,\n",
              "          0.05072019, -0.11824986, -0.01999637, -0.2207944 ,  0.05597427],\n",
              "        [ 0.13367262,  0.2789342 , -0.03615405, -0.2048239 ,  0.21869078,\n",
              "         -0.20889392, -0.17846508, -0.05909513, -0.06822492, -0.14504431],\n",
              "        [-0.06291172,  0.26391354, -0.11779214,  0.17120457,  0.2613522 ,\n",
              "         -0.03650497, -0.22008163,  0.05685174,  0.12865338, -0.06867251],\n",
              "        [-0.17787948,  0.25458834, -0.16115901,  0.0787704 , -0.09479249,\n",
              "          0.11307448, -0.04901713,  0.2310426 , -0.04559144,  0.04237235],\n",
              "        [ 0.15014943, -0.00919971, -0.07917392, -0.23043302,  0.2514777 ,\n",
              "         -0.06940775, -0.23815858, -0.15771696, -0.05443902, -0.11740682],\n",
              "        [-0.15080972,  0.14518294,  0.04556885,  0.12373883, -0.15288517,\n",
              "         -0.05397078,  0.15993571, -0.21219218, -0.18067454,  0.25998053],\n",
              "        [-0.04917525, -0.0647357 ,  0.22296062,  0.27911744,  0.00837833,\n",
              "          0.18388894,  0.27758363, -0.19769561,  0.23744771, -0.26764607],\n",
              "        [ 0.27336892, -0.2109521 ,  0.11970159, -0.21572852, -0.06420371,\n",
              "         -0.08418047, -0.12370007,  0.1935004 ,  0.27497032, -0.20385349],\n",
              "        [ 0.04049516, -0.07743278, -0.23967041, -0.24931921,  0.1654253 ,\n",
              "          0.10466439,  0.24242356, -0.05344845, -0.19502005, -0.02162594],\n",
              "        [-0.14760794, -0.06688105, -0.06951848, -0.13477643,  0.17020068,\n",
              "          0.10206619, -0.16829361,  0.12737966, -0.07131191, -0.09288298],\n",
              "        [-0.08206947, -0.02440688,  0.26932272,  0.13515308,  0.20786676,\n",
              "          0.24534503,  0.13036126, -0.11157493, -0.16122262, -0.11120005],\n",
              "        [ 0.16472653,  0.14282075, -0.08615237,  0.22149637, -0.109964  ,\n",
              "          0.20939738,  0.23856261, -0.207591  ,  0.06767428,  0.03882658],\n",
              "        [-0.07533704,  0.18826896,  0.11996767, -0.22167322, -0.22510019,\n",
              "          0.10414258,  0.15381512, -0.08695531, -0.243387  ,  0.19807559],\n",
              "        [-0.06496325,  0.09591782, -0.08788675, -0.14212243,  0.18851349,\n",
              "          0.23452583, -0.26320624,  0.07523018,  0.23866728, -0.28219885],\n",
              "        [ 0.08277783,  0.2029391 ,  0.02977064, -0.14016737, -0.17233138,\n",
              "          0.15419358, -0.1850857 ,  0.01034528, -0.0310784 ,  0.2667472 ],\n",
              "        [-0.00407627,  0.1635656 , -0.16642143,  0.16146377, -0.1448634 ,\n",
              "          0.01900655,  0.11190224,  0.01061141, -0.01029089, -0.20860118],\n",
              "        [-0.04308838,  0.2697076 ,  0.0449321 ,  0.08155262, -0.17083517,\n",
              "         -0.27150983,  0.09119791, -0.17343947, -0.00879246,  0.10849839],\n",
              "        [ 0.02848095, -0.2502892 , -0.02482656,  0.06442815, -0.08310273,\n",
              "         -0.17183015, -0.17433736,  0.02148348,  0.1518527 , -0.2576403 ]],\n",
              "       dtype=float32),\n",
              " array([0., 0., 0., 0., 0., 0., 0., 0., 0., 0.], dtype=float32)]"
            ]
          },
          "metadata": {
            "tags": []
          },
          "execution_count": 71
        }
      ]
    },
    {
      "cell_type": "markdown",
      "metadata": {
        "id": "MvJnZlDYIFaP",
        "colab_type": "text"
      },
      "source": [
        "Compile and Fit"
      ]
    },
    {
      "cell_type": "code",
      "metadata": {
        "id": "2_jDq7OUIEOm",
        "colab_type": "code",
        "outputId": "3b025844-4f4c-4812-c197-8709765d3a19",
        "colab": {
          "base_uri": "https://localhost:8080/",
          "height": 714
        }
      },
      "source": [
        "model.compile(loss='sparse_categorical_crossentropy',\n",
        "              optimizer='adam',\n",
        "              metrics=['accuracy'])\n",
        "                   \n",
        "model.fit(X_train, y_train,epochs=20)"
      ],
      "execution_count": 72,
      "outputs": [
        {
          "output_type": "stream",
          "text": [
            "Epoch 1/20\n",
            "136/136 [==============================] - 0s 2ms/step - loss: 1.2732 - accuracy: 0.5267\n",
            "Epoch 2/20\n",
            "136/136 [==============================] - 0s 2ms/step - loss: 1.0786 - accuracy: 0.5572\n",
            "Epoch 3/20\n",
            "136/136 [==============================] - 0s 2ms/step - loss: 1.0474 - accuracy: 0.5699\n",
            "Epoch 4/20\n",
            "136/136 [==============================] - 0s 2ms/step - loss: 1.0303 - accuracy: 0.5779\n",
            "Epoch 5/20\n",
            "136/136 [==============================] - 0s 2ms/step - loss: 1.0129 - accuracy: 0.5751\n",
            "Epoch 6/20\n",
            "136/136 [==============================] - 0s 2ms/step - loss: 1.0025 - accuracy: 0.5756\n",
            "Epoch 7/20\n",
            "136/136 [==============================] - 0s 2ms/step - loss: 0.9889 - accuracy: 0.5816\n",
            "Epoch 8/20\n",
            "136/136 [==============================] - 0s 2ms/step - loss: 0.9770 - accuracy: 0.5896\n",
            "Epoch 9/20\n",
            "136/136 [==============================] - 0s 2ms/step - loss: 0.9692 - accuracy: 0.5917\n",
            "Epoch 10/20\n",
            "136/136 [==============================] - 0s 2ms/step - loss: 0.9626 - accuracy: 0.5921\n",
            "Epoch 11/20\n",
            "136/136 [==============================] - 0s 2ms/step - loss: 0.9545 - accuracy: 0.5967\n",
            "Epoch 12/20\n",
            "136/136 [==============================] - 0s 2ms/step - loss: 0.9443 - accuracy: 0.6025\n",
            "Epoch 13/20\n",
            "136/136 [==============================] - 0s 2ms/step - loss: 0.9373 - accuracy: 0.6032\n",
            "Epoch 14/20\n",
            "136/136 [==============================] - 0s 2ms/step - loss: 0.9320 - accuracy: 0.6034\n",
            "Epoch 15/20\n",
            "136/136 [==============================] - 0s 2ms/step - loss: 0.9226 - accuracy: 0.6114\n",
            "Epoch 16/20\n",
            "136/136 [==============================] - 0s 2ms/step - loss: 0.9184 - accuracy: 0.6096\n",
            "Epoch 17/20\n",
            "136/136 [==============================] - 0s 2ms/step - loss: 0.9076 - accuracy: 0.6220\n",
            "Epoch 18/20\n",
            "136/136 [==============================] - 0s 2ms/step - loss: 0.9018 - accuracy: 0.6172\n",
            "Epoch 19/20\n",
            "136/136 [==============================] - 0s 2ms/step - loss: 0.8944 - accuracy: 0.6204\n",
            "Epoch 20/20\n",
            "136/136 [==============================] - 0s 2ms/step - loss: 0.8891 - accuracy: 0.6234\n"
          ],
          "name": "stdout"
        },
        {
          "output_type": "execute_result",
          "data": {
            "text/plain": [
              "<tensorflow.python.keras.callbacks.History at 0x7f7ab7841240>"
            ]
          },
          "metadata": {
            "tags": []
          },
          "execution_count": 72
        }
      ]
    },
    {
      "cell_type": "code",
      "metadata": {
        "id": "nxhvjXs8qEjG",
        "colab_type": "code",
        "outputId": "bc4502af-0c71-4db5-9e74-42313e192333",
        "colab": {
          "base_uri": "https://localhost:8080/",
          "height": 34
        }
      },
      "source": [
        "loss, accuracy  = model.evaluate(X_test, y_test)"
      ],
      "execution_count": 73,
      "outputs": [
        {
          "output_type": "stream",
          "text": [
            "68/68 [==============================] - 0s 1ms/step - loss: 1.0420 - accuracy: 0.5501\n"
          ],
          "name": "stdout"
        }
      ]
    },
    {
      "cell_type": "code",
      "metadata": {
        "id": "qpLf6IwbDOqs",
        "colab_type": "code",
        "outputId": "5c1fc9b3-7792-40e1-b369-86ede597e5c0",
        "colab": {
          "base_uri": "https://localhost:8080/",
          "height": 34
        }
      },
      "source": [
        "score = model.evaluate(X_test, y_test)"
      ],
      "execution_count": 74,
      "outputs": [
        {
          "output_type": "stream",
          "text": [
            "68/68 [==============================] - 0s 1ms/step - loss: 1.0420 - accuracy: 0.5501\n"
          ],
          "name": "stdout"
        }
      ]
    },
    {
      "cell_type": "markdown",
      "metadata": {
        "id": "c7sWR_0eIRj7",
        "colab_type": "text"
      },
      "source": [
        "Predict Values"
      ]
    },
    {
      "cell_type": "code",
      "metadata": {
        "id": "lhBKyUXuISyJ",
        "colab_type": "code",
        "colab": {}
      },
      "source": [
        "y_pred = model.predict_classes(X_test)"
      ],
      "execution_count": 0,
      "outputs": []
    },
    {
      "cell_type": "code",
      "metadata": {
        "id": "Rdhp-FfHwuZw",
        "colab_type": "code",
        "outputId": "4530b309-866f-48fe-daf8-c2037dc2a4d9",
        "colab": {
          "base_uri": "https://localhost:8080/",
          "height": 34
        }
      },
      "source": [
        "y_pred"
      ],
      "execution_count": 76,
      "outputs": [
        {
          "output_type": "execute_result",
          "data": {
            "text/plain": [
              "array([6, 5, 7, ..., 6, 5, 5])"
            ]
          },
          "metadata": {
            "tags": []
          },
          "execution_count": 76
        }
      ]
    },
    {
      "cell_type": "markdown",
      "metadata": {
        "id": "VCgQheM7QLy-",
        "colab_type": "text"
      },
      "source": [
        "Evaluate Model"
      ]
    },
    {
      "cell_type": "code",
      "metadata": {
        "id": "31nJHroeQI0w",
        "colab_type": "code",
        "outputId": "397eb342-e166-42aa-eb7d-c16b220cc199",
        "colab": {
          "base_uri": "https://localhost:8080/",
          "height": 51
        }
      },
      "source": [
        "score = model.evaluate(X_test, y_test,verbose=1)\n",
        "# for our case relu performs better than sigmoid\n",
        "print(score)\n"
      ],
      "execution_count": 77,
      "outputs": [
        {
          "output_type": "stream",
          "text": [
            "68/68 [==============================] - 0s 1ms/step - loss: 1.0420 - accuracy: 0.5501\n",
            "[1.0420074462890625, 0.5501165390014648]\n"
          ],
          "name": "stdout"
        }
      ]
    },
    {
      "cell_type": "code",
      "metadata": {
        "id": "bz1GYXcza_9l",
        "colab_type": "code",
        "outputId": "f88a446c-5731-424d-81bd-2597a38ca3b6",
        "colab": {
          "base_uri": "https://localhost:8080/",
          "height": 714
        }
      },
      "source": [
        "from keras.models import Sequential\n",
        "from keras.layers import Dense\n",
        "# Initialize the constructor\n",
        "model = Sequential()\n",
        "# Add an input layer \n",
        "model.add(Dense(164, activation='sigmoid', input_shape=(12,)))\n",
        "model.add(Dense(64, activation='sigmoid'))\n",
        "model.add(Dense(10, activation='softmax'))\n",
        "\n",
        "model.compile(loss='sparse_categorical_crossentropy',\n",
        "              optimizer='sgd',\n",
        "              metrics=['accuracy'])\n",
        "                   \n",
        "model.fit(X_train, y_train,epochs=20)\n",
        "\n",
        "loss, accuracy  = model.evaluate(X_test, y_test)"
      ],
      "execution_count": 80,
      "outputs": [
        {
          "output_type": "stream",
          "text": [
            "Epoch 1/20\n",
            "4352/4352 [==============================] - 0s 46us/step - loss: 1.5582 - accuracy: 0.4028\n",
            "Epoch 2/20\n",
            "4352/4352 [==============================] - 0s 40us/step - loss: 1.3177 - accuracy: 0.4276\n",
            "Epoch 3/20\n",
            "4352/4352 [==============================] - 0s 40us/step - loss: 1.2959 - accuracy: 0.4274\n",
            "Epoch 4/20\n",
            "4352/4352 [==============================] - 0s 39us/step - loss: 1.2852 - accuracy: 0.4306\n",
            "Epoch 5/20\n",
            "4352/4352 [==============================] - 0s 38us/step - loss: 1.2779 - accuracy: 0.4281\n",
            "Epoch 6/20\n",
            "4352/4352 [==============================] - 0s 39us/step - loss: 1.2723 - accuracy: 0.4297\n",
            "Epoch 7/20\n",
            "4352/4352 [==============================] - 0s 38us/step - loss: 1.2674 - accuracy: 0.4375\n",
            "Epoch 8/20\n",
            "4352/4352 [==============================] - 0s 39us/step - loss: 1.2622 - accuracy: 0.4416\n",
            "Epoch 9/20\n",
            "4352/4352 [==============================] - 0s 40us/step - loss: 1.2572 - accuracy: 0.4419\n",
            "Epoch 10/20\n",
            "4352/4352 [==============================] - 0s 41us/step - loss: 1.2521 - accuracy: 0.4614\n",
            "Epoch 11/20\n",
            "4352/4352 [==============================] - 0s 38us/step - loss: 1.2489 - accuracy: 0.4552\n",
            "Epoch 12/20\n",
            "4352/4352 [==============================] - 0s 38us/step - loss: 1.2443 - accuracy: 0.4660\n",
            "Epoch 13/20\n",
            "4352/4352 [==============================] - 0s 38us/step - loss: 1.2396 - accuracy: 0.4699\n",
            "Epoch 14/20\n",
            "4352/4352 [==============================] - 0s 38us/step - loss: 1.2346 - accuracy: 0.4809\n",
            "Epoch 15/20\n",
            "4352/4352 [==============================] - 0s 39us/step - loss: 1.2299 - accuracy: 0.4823\n",
            "Epoch 16/20\n",
            "4352/4352 [==============================] - 0s 41us/step - loss: 1.2248 - accuracy: 0.4970\n",
            "Epoch 17/20\n",
            "4352/4352 [==============================] - 0s 38us/step - loss: 1.2190 - accuracy: 0.4945\n",
            "Epoch 18/20\n",
            "4352/4352 [==============================] - 0s 39us/step - loss: 1.2143 - accuracy: 0.4984\n",
            "Epoch 19/20\n",
            "4352/4352 [==============================] - 0s 39us/step - loss: 1.2083 - accuracy: 0.5030\n",
            "Epoch 20/20\n",
            "4352/4352 [==============================] - 0s 38us/step - loss: 1.2029 - accuracy: 0.5092\n",
            "2145/2145 [==============================] - 0s 31us/step\n"
          ],
          "name": "stdout"
        }
      ]
    },
    {
      "cell_type": "code",
      "metadata": {
        "id": "JMOL_ma3bsxE",
        "colab_type": "code",
        "colab": {
          "base_uri": "https://localhost:8080/",
          "height": 34
        },
        "outputId": "5cd501f3-5816-4567-9db4-be95dbbe2a06"
      },
      "source": [
        "accuracy\n",
        "\n",
        "\n"
      ],
      "execution_count": 81,
      "outputs": [
        {
          "output_type": "execute_result",
          "data": {
            "text/plain": [
              "0.5067598819732666"
            ]
          },
          "metadata": {
            "tags": []
          },
          "execution_count": 81
        }
      ]
    },
    {
      "cell_type": "code",
      "metadata": {
        "id": "hoDpU1XX6eZN",
        "colab_type": "code",
        "colab": {
          "base_uri": "https://localhost:8080/",
          "height": 34
        },
        "outputId": "b23d950b-d999-4403-a29f-326895dc3c5a"
      },
      "source": [
        "loss"
      ],
      "execution_count": 82,
      "outputs": [
        {
          "output_type": "execute_result",
          "data": {
            "text/plain": [
              "1.1900016356737186"
            ]
          },
          "metadata": {
            "tags": []
          },
          "execution_count": 82
        }
      ]
    },
    {
      "cell_type": "markdown",
      "metadata": {
        "id": "gtDhlxQTuIsX",
        "colab_type": "text"
      },
      "source": [
        "K Fold Validation\n",
        "  "
      ]
    },
    {
      "cell_type": "code",
      "metadata": {
        "id": "DucArX1HZ0iv",
        "colab_type": "code",
        "outputId": "141b1fb5-ffc9-4d46-ebf9-9974f4d10995",
        "colab": {
          "base_uri": "https://localhost:8080/",
          "height": 1000
        }
      },
      "source": [
        "import numpy as np\n",
        "from sklearn.model_selection import StratifiedKFold\n",
        "\n",
        "X=X.values\n",
        "seed = 7\n",
        "np.random.seed(seed)\n",
        "\n",
        "cvscores = []\n",
        "\n",
        "kfold = StratifiedKFold(n_splits=5, shuffle=True, random_state=seed)\n",
        "for train, test in kfold.split(X, y):\n",
        "    # Initialize the constructor\n",
        "    model = Sequential()\n",
        "    model.add(Dense(164, activation='relu', input_shape=(12,)))\n",
        "    model.add(Dense(64, activation='relu'))\n",
        "    model.add(Dense(10, activation='softmax'))\n",
        "\n",
        "    model.compile(loss='sparse_categorical_crossentropy',\n",
        "              optimizer='adam',\n",
        "              metrics=['accuracy'])\n",
        "                   \n",
        "    model.fit(X[train], y[train],epochs=10, batch_size=1, verbose=1)\n",
        "    \n",
        "    # evaluate the model\n",
        "    scores = model.evaluate(X[test], y[test], verbose=0)\n",
        "    print(\"--------------------->>>\")\n",
        "    print(\"%s: %.2f%%\" % (model.metrics_names[1], scores[1]*100))\n",
        "    print(\"--------------------->>>\")\n",
        "    cvscores.append(scores[1] * 100)\n",
        "print(\"----------->>>\")\n",
        "print(\"---------->>>\")\n",
        "print(\"%.2f%% (+/- %.2f%%)\" % (np.mean(cvscores), np.std(cvscores)))"
      ],
      "execution_count": 83,
      "outputs": [
        {
          "output_type": "stream",
          "text": [
            "Epoch 1/10\n",
            "5197/5197 [==============================] - 6s 1ms/step - loss: 1.5531 - accuracy: 0.4108\n",
            "Epoch 2/10\n",
            "5197/5197 [==============================] - 6s 1ms/step - loss: 1.2483 - accuracy: 0.4491\n",
            "Epoch 3/10\n",
            "5197/5197 [==============================] - 6s 1ms/step - loss: 1.2054 - accuracy: 0.4710\n",
            "Epoch 4/10\n",
            "5197/5197 [==============================] - 6s 1ms/step - loss: 1.1821 - accuracy: 0.4797\n",
            "Epoch 5/10\n",
            "5197/5197 [==============================] - 6s 1ms/step - loss: 1.1660 - accuracy: 0.4887\n",
            "Epoch 6/10\n",
            "5197/5197 [==============================] - 6s 1ms/step - loss: 1.1591 - accuracy: 0.4880\n",
            "Epoch 7/10\n",
            "5197/5197 [==============================] - 6s 1ms/step - loss: 1.1468 - accuracy: 0.5005\n",
            "Epoch 8/10\n",
            "5197/5197 [==============================] - 6s 1ms/step - loss: 1.1390 - accuracy: 0.4905\n",
            "Epoch 9/10\n",
            "5197/5197 [==============================] - 6s 1ms/step - loss: 1.1312 - accuracy: 0.5028\n",
            "Epoch 10/10\n",
            "5197/5197 [==============================] - 6s 1ms/step - loss: 1.1273 - accuracy: 0.5030\n",
            "--------------------->>>\n",
            "accuracy: 51.31%\n",
            "--------------------->>>\n",
            "Epoch 1/10\n",
            "5197/5197 [==============================] - 6s 1ms/step - loss: 1.5072 - accuracy: 0.3998\n",
            "Epoch 2/10\n",
            "5197/5197 [==============================] - 6s 1ms/step - loss: 1.2600 - accuracy: 0.4362\n",
            "Epoch 3/10\n",
            "5197/5197 [==============================] - 6s 1ms/step - loss: 1.2200 - accuracy: 0.4622\n",
            "Epoch 4/10\n",
            "5197/5197 [==============================] - 6s 1ms/step - loss: 1.1789 - accuracy: 0.4843\n",
            "Epoch 5/10\n",
            "5197/5197 [==============================] - 6s 1ms/step - loss: 1.1651 - accuracy: 0.4874\n",
            "Epoch 6/10\n",
            "5197/5197 [==============================] - 6s 1ms/step - loss: 1.1592 - accuracy: 0.4886\n",
            "Epoch 7/10\n",
            "5197/5197 [==============================] - 6s 1ms/step - loss: 1.1424 - accuracy: 0.5028\n",
            "Epoch 8/10\n",
            "5197/5197 [==============================] - 6s 1ms/step - loss: 1.1393 - accuracy: 0.5032\n",
            "Epoch 9/10\n",
            "5197/5197 [==============================] - 6s 1ms/step - loss: 1.1324 - accuracy: 0.5016\n",
            "Epoch 10/10\n",
            "5197/5197 [==============================] - 6s 1ms/step - loss: 1.1231 - accuracy: 0.5026\n",
            "--------------------->>>\n",
            "accuracy: 49.00%\n",
            "--------------------->>>\n",
            "Epoch 1/10\n",
            "5198/5198 [==============================] - 6s 1ms/step - loss: 1.5193 - accuracy: 0.3953\n",
            "Epoch 2/10\n",
            "5198/5198 [==============================] - 6s 1ms/step - loss: 1.2506 - accuracy: 0.4571\n",
            "Epoch 3/10\n",
            "5198/5198 [==============================] - 6s 1ms/step - loss: 1.2111 - accuracy: 0.4775\n",
            "Epoch 4/10\n",
            "5198/5198 [==============================] - 6s 1ms/step - loss: 1.1809 - accuracy: 0.4881\n",
            "Epoch 5/10\n",
            "5198/5198 [==============================] - 6s 1ms/step - loss: 1.1638 - accuracy: 0.4973\n",
            "Epoch 6/10\n",
            "5198/5198 [==============================] - 6s 1ms/step - loss: 1.1523 - accuracy: 0.5010\n",
            "Epoch 7/10\n",
            "5198/5198 [==============================] - 6s 1ms/step - loss: 1.1525 - accuracy: 0.4988\n",
            "Epoch 8/10\n",
            "5198/5198 [==============================] - 6s 1ms/step - loss: 1.1464 - accuracy: 0.5021\n",
            "Epoch 9/10\n",
            "5198/5198 [==============================] - 6s 1ms/step - loss: 1.1372 - accuracy: 0.5054\n",
            "Epoch 10/10\n",
            "5198/5198 [==============================] - 6s 1ms/step - loss: 1.1334 - accuracy: 0.5108\n",
            "--------------------->>>\n",
            "accuracy: 49.81%\n",
            "--------------------->>>\n",
            "Epoch 1/10\n",
            "5198/5198 [==============================] - 6s 1ms/step - loss: 1.4617 - accuracy: 0.4111\n",
            "Epoch 2/10\n",
            "5198/5198 [==============================] - 6s 1ms/step - loss: 1.2697 - accuracy: 0.4311\n",
            "Epoch 3/10\n",
            "5198/5198 [==============================] - 6s 1ms/step - loss: 1.2055 - accuracy: 0.4686\n",
            "Epoch 4/10\n",
            "5198/5198 [==============================] - 6s 1ms/step - loss: 1.1793 - accuracy: 0.4758\n",
            "Epoch 5/10\n",
            "5198/5198 [==============================] - 6s 1ms/step - loss: 1.1615 - accuracy: 0.4810\n",
            "Epoch 6/10\n",
            "5198/5198 [==============================] - 6s 1ms/step - loss: 1.1532 - accuracy: 0.4956\n",
            "Epoch 7/10\n",
            "5198/5198 [==============================] - 6s 1ms/step - loss: 1.1436 - accuracy: 0.4940\n",
            "Epoch 8/10\n",
            "5198/5198 [==============================] - 6s 1ms/step - loss: 1.1415 - accuracy: 0.4927\n",
            "Epoch 9/10\n",
            "5198/5198 [==============================] - 6s 1ms/step - loss: 1.1367 - accuracy: 0.4983\n",
            "Epoch 10/10\n",
            "5198/5198 [==============================] - 6s 1ms/step - loss: 1.1338 - accuracy: 0.5000\n",
            "--------------------->>>\n",
            "accuracy: 48.04%\n",
            "--------------------->>>\n",
            "Epoch 1/10\n",
            "5198/5198 [==============================] - 6s 1ms/step - loss: 1.6773 - accuracy: 0.4092\n",
            "Epoch 2/10\n",
            "5198/5198 [==============================] - 6s 1ms/step - loss: 1.2608 - accuracy: 0.4525\n",
            "Epoch 3/10\n",
            "5198/5198 [==============================] - 6s 1ms/step - loss: 1.2167 - accuracy: 0.4736\n",
            "Epoch 4/10\n",
            "5198/5198 [==============================] - 6s 1ms/step - loss: 1.1859 - accuracy: 0.4885\n",
            "Epoch 5/10\n",
            "5198/5198 [==============================] - 6s 1ms/step - loss: 1.1656 - accuracy: 0.4921\n",
            "Epoch 6/10\n",
            "5198/5198 [==============================] - 6s 1ms/step - loss: 1.1601 - accuracy: 0.5037\n",
            "Epoch 7/10\n",
            "5198/5198 [==============================] - 6s 1ms/step - loss: 1.1456 - accuracy: 0.4965\n",
            "Epoch 8/10\n",
            "5198/5198 [==============================] - 6s 1ms/step - loss: 1.1394 - accuracy: 0.5056\n",
            "Epoch 9/10\n",
            "5198/5198 [==============================] - 6s 1ms/step - loss: 1.1384 - accuracy: 0.5060\n",
            "Epoch 10/10\n",
            "5198/5198 [==============================] - 6s 1ms/step - loss: 1.1250 - accuracy: 0.5067\n",
            "--------------------->>>\n",
            "accuracy: 50.89%\n",
            "--------------------->>>\n",
            "----------->>>\n",
            "---------->>>\n",
            "49.81% (+/- 1.20%)\n"
          ],
          "name": "stdout"
        }
      ]
    },
    {
      "cell_type": "code",
      "metadata": {
        "id": "dOW0K2oUy_mH",
        "colab_type": "code",
        "colab": {}
      },
      "source": [
        ""
      ],
      "execution_count": 0,
      "outputs": []
    },
    {
      "cell_type": "markdown",
      "metadata": {
        "id": "78sjw_jB5Yhe",
        "colab_type": "text"
      },
      "source": [
        "**HyperParameter Tuning with Hypers**"
      ]
    },
    {
      "cell_type": "code",
      "metadata": {
        "id": "oA7HpLJ5_z3V",
        "colab_type": "code",
        "outputId": "0bb6307d-3619-4960-d77d-a3438e4ff88f",
        "colab": {
          "base_uri": "https://localhost:8080/",
          "height": 1000
        }
      },
      "source": [
        "!pip install hyperas\n",
        "!pip install hyperopt"
      ],
      "execution_count": 84,
      "outputs": [
        {
          "output_type": "stream",
          "text": [
            "Requirement already satisfied: hyperas in /usr/local/lib/python3.6/dist-packages (0.4.1)\n",
            "Requirement already satisfied: nbconvert in /usr/local/lib/python3.6/dist-packages (from hyperas) (5.6.1)\n",
            "Requirement already satisfied: keras in /usr/local/lib/python3.6/dist-packages (from hyperas) (2.3.1)\n",
            "Requirement already satisfied: nbformat in /usr/local/lib/python3.6/dist-packages (from hyperas) (5.0.6)\n",
            "Requirement already satisfied: entrypoints in /usr/local/lib/python3.6/dist-packages (from hyperas) (0.3)\n",
            "Requirement already satisfied: hyperopt in /usr/local/lib/python3.6/dist-packages (from hyperas) (0.1.2)\n",
            "Requirement already satisfied: jupyter in /usr/local/lib/python3.6/dist-packages (from hyperas) (1.0.0)\n",
            "Requirement already satisfied: mistune<2,>=0.8.1 in /usr/local/lib/python3.6/dist-packages (from nbconvert->hyperas) (0.8.4)\n",
            "Requirement already satisfied: defusedxml in /usr/local/lib/python3.6/dist-packages (from nbconvert->hyperas) (0.6.0)\n",
            "Requirement already satisfied: bleach in /usr/local/lib/python3.6/dist-packages (from nbconvert->hyperas) (3.1.5)\n",
            "Requirement already satisfied: testpath in /usr/local/lib/python3.6/dist-packages (from nbconvert->hyperas) (0.4.4)\n",
            "Requirement already satisfied: jupyter-core in /usr/local/lib/python3.6/dist-packages (from nbconvert->hyperas) (4.6.3)\n",
            "Requirement already satisfied: pandocfilters>=1.4.1 in /usr/local/lib/python3.6/dist-packages (from nbconvert->hyperas) (1.4.2)\n",
            "Requirement already satisfied: pygments in /usr/local/lib/python3.6/dist-packages (from nbconvert->hyperas) (2.1.3)\n",
            "Requirement already satisfied: traitlets>=4.2 in /usr/local/lib/python3.6/dist-packages (from nbconvert->hyperas) (4.3.3)\n",
            "Requirement already satisfied: jinja2>=2.4 in /usr/local/lib/python3.6/dist-packages (from nbconvert->hyperas) (2.11.2)\n",
            "Requirement already satisfied: scipy>=0.14 in /usr/local/lib/python3.6/dist-packages (from keras->hyperas) (1.4.1)\n",
            "Requirement already satisfied: h5py in /usr/local/lib/python3.6/dist-packages (from keras->hyperas) (2.10.0)\n",
            "Requirement already satisfied: six>=1.9.0 in /usr/local/lib/python3.6/dist-packages (from keras->hyperas) (1.12.0)\n",
            "Requirement already satisfied: pyyaml in /usr/local/lib/python3.6/dist-packages (from keras->hyperas) (3.13)\n",
            "Requirement already satisfied: numpy>=1.9.1 in /usr/local/lib/python3.6/dist-packages (from keras->hyperas) (1.18.4)\n",
            "Requirement already satisfied: keras-applications>=1.0.6 in /usr/local/lib/python3.6/dist-packages (from keras->hyperas) (1.0.8)\n",
            "Requirement already satisfied: keras-preprocessing>=1.0.5 in /usr/local/lib/python3.6/dist-packages (from keras->hyperas) (1.1.2)\n",
            "Requirement already satisfied: jsonschema!=2.5.0,>=2.4 in /usr/local/lib/python3.6/dist-packages (from nbformat->hyperas) (2.6.0)\n",
            "Requirement already satisfied: ipython-genutils in /usr/local/lib/python3.6/dist-packages (from nbformat->hyperas) (0.2.0)\n",
            "Requirement already satisfied: pymongo in /usr/local/lib/python3.6/dist-packages (from hyperopt->hyperas) (3.10.1)\n",
            "Requirement already satisfied: future in /usr/local/lib/python3.6/dist-packages (from hyperopt->hyperas) (0.16.0)\n",
            "Requirement already satisfied: tqdm in /usr/local/lib/python3.6/dist-packages (from hyperopt->hyperas) (4.41.1)\n",
            "Requirement already satisfied: networkx in /usr/local/lib/python3.6/dist-packages (from hyperopt->hyperas) (2.4)\n",
            "Requirement already satisfied: jupyter-console in /usr/local/lib/python3.6/dist-packages (from jupyter->hyperas) (5.2.0)\n",
            "Requirement already satisfied: qtconsole in /usr/local/lib/python3.6/dist-packages (from jupyter->hyperas) (4.7.4)\n",
            "Requirement already satisfied: notebook in /usr/local/lib/python3.6/dist-packages (from jupyter->hyperas) (5.2.2)\n",
            "Requirement already satisfied: ipywidgets in /usr/local/lib/python3.6/dist-packages (from jupyter->hyperas) (7.5.1)\n",
            "Requirement already satisfied: ipykernel in /usr/local/lib/python3.6/dist-packages (from jupyter->hyperas) (4.10.1)\n",
            "Requirement already satisfied: webencodings in /usr/local/lib/python3.6/dist-packages (from bleach->nbconvert->hyperas) (0.5.1)\n",
            "Requirement already satisfied: packaging in /usr/local/lib/python3.6/dist-packages (from bleach->nbconvert->hyperas) (20.3)\n",
            "Requirement already satisfied: decorator in /usr/local/lib/python3.6/dist-packages (from traitlets>=4.2->nbconvert->hyperas) (4.4.2)\n",
            "Requirement already satisfied: MarkupSafe>=0.23 in /usr/local/lib/python3.6/dist-packages (from jinja2>=2.4->nbconvert->hyperas) (1.1.1)\n",
            "Requirement already satisfied: ipython in /usr/local/lib/python3.6/dist-packages (from jupyter-console->jupyter->hyperas) (5.5.0)\n",
            "Requirement already satisfied: jupyter-client in /usr/local/lib/python3.6/dist-packages (from jupyter-console->jupyter->hyperas) (5.3.4)\n",
            "Requirement already satisfied: prompt-toolkit<2.0.0,>=1.0.0 in /usr/local/lib/python3.6/dist-packages (from jupyter-console->jupyter->hyperas) (1.0.18)\n",
            "Requirement already satisfied: qtpy in /usr/local/lib/python3.6/dist-packages (from qtconsole->jupyter->hyperas) (1.9.0)\n",
            "Requirement already satisfied: pyzmq>=17.1 in /usr/local/lib/python3.6/dist-packages (from qtconsole->jupyter->hyperas) (19.0.1)\n",
            "Requirement already satisfied: terminado>=0.3.3; sys_platform != \"win32\" in /usr/local/lib/python3.6/dist-packages (from notebook->jupyter->hyperas) (0.8.3)\n",
            "Requirement already satisfied: tornado>=4 in /usr/local/lib/python3.6/dist-packages (from notebook->jupyter->hyperas) (4.5.3)\n",
            "Requirement already satisfied: widgetsnbextension~=3.5.0 in /usr/local/lib/python3.6/dist-packages (from ipywidgets->jupyter->hyperas) (3.5.1)\n",
            "Requirement already satisfied: pyparsing>=2.0.2 in /usr/local/lib/python3.6/dist-packages (from packaging->bleach->nbconvert->hyperas) (2.4.7)\n",
            "Requirement already satisfied: simplegeneric>0.8 in /usr/local/lib/python3.6/dist-packages (from ipython->jupyter-console->jupyter->hyperas) (0.8.1)\n",
            "Requirement already satisfied: setuptools>=18.5 in /usr/local/lib/python3.6/dist-packages (from ipython->jupyter-console->jupyter->hyperas) (46.3.0)\n",
            "Requirement already satisfied: pickleshare in /usr/local/lib/python3.6/dist-packages (from ipython->jupyter-console->jupyter->hyperas) (0.7.5)\n",
            "Requirement already satisfied: pexpect; sys_platform != \"win32\" in /usr/local/lib/python3.6/dist-packages (from ipython->jupyter-console->jupyter->hyperas) (4.8.0)\n",
            "Requirement already satisfied: python-dateutil>=2.1 in /usr/local/lib/python3.6/dist-packages (from jupyter-client->jupyter-console->jupyter->hyperas) (2.8.1)\n",
            "Requirement already satisfied: wcwidth in /usr/local/lib/python3.6/dist-packages (from prompt-toolkit<2.0.0,>=1.0.0->jupyter-console->jupyter->hyperas) (0.1.9)\n",
            "Requirement already satisfied: ptyprocess; os_name != \"nt\" in /usr/local/lib/python3.6/dist-packages (from terminado>=0.3.3; sys_platform != \"win32\"->notebook->jupyter->hyperas) (0.6.0)\n",
            "Requirement already satisfied: hyperopt in /usr/local/lib/python3.6/dist-packages (0.1.2)\n",
            "Requirement already satisfied: future in /usr/local/lib/python3.6/dist-packages (from hyperopt) (0.16.0)\n",
            "Requirement already satisfied: tqdm in /usr/local/lib/python3.6/dist-packages (from hyperopt) (4.41.1)\n",
            "Requirement already satisfied: pymongo in /usr/local/lib/python3.6/dist-packages (from hyperopt) (3.10.1)\n",
            "Requirement already satisfied: scipy in /usr/local/lib/python3.6/dist-packages (from hyperopt) (1.4.1)\n",
            "Requirement already satisfied: numpy in /usr/local/lib/python3.6/dist-packages (from hyperopt) (1.18.4)\n",
            "Requirement already satisfied: networkx in /usr/local/lib/python3.6/dist-packages (from hyperopt) (2.4)\n",
            "Requirement already satisfied: six in /usr/local/lib/python3.6/dist-packages (from hyperopt) (1.12.0)\n",
            "Requirement already satisfied: decorator>=4.3.0 in /usr/local/lib/python3.6/dist-packages (from networkx->hyperopt) (4.4.2)\n"
          ],
          "name": "stdout"
        }
      ]
    },
    {
      "cell_type": "code",
      "metadata": {
        "id": "iak0MRuG5gF2",
        "colab_type": "code",
        "colab": {}
      },
      "source": [
        "from __future__ import print_function\n",
        "from hyperopt import Trials, STATUS_OK, tpe\n",
        "from hyperas import optim\n",
        "from hyperas.distributions import choice, uniform\n",
        "\n",
        "# from tensorflow.python.keras.layers import Dense, Dropout, Activation\n",
        "# from tensorflow.python.keras import Sequential\n",
        "\n",
        "import tensorflow as tf\n",
        "from tensorflow.keras.models import Sequential\n",
        "from tensorflow.keras.layers import Dense, Dropout, Activation\n",
        "\n",
        "\n",
        "from keras import utils as np_utils"
      ],
      "execution_count": 0,
      "outputs": []
    },
    {
      "cell_type": "code",
      "metadata": {
        "id": "O3SL_gi35wkt",
        "colab_type": "code",
        "colab": {}
      },
      "source": [
        "\n",
        "def data():\n",
        "    '''\n",
        "    Data providing function:\n",
        "    '''\n",
        "    import numpy as np\n",
        "    import pandas as pd\n",
        "    from sklearn.model_selection import train_test_split\n",
        "    import tensorflow as tf\n",
        "    from tensorflow.keras.models import Sequential\n",
        "    from tensorflow.keras.layers import Dense, Dropout, Activation\n",
        "\n",
        "    # Read in white wine data \n",
        "    white = pd.read_csv(\"http://archive.ics.uci.edu/ml/machine-learning-databases/wine-quality/winequality-white.csv\", sep=';')\n",
        "\n",
        "    # Read in red wine data \n",
        "    red = pd.read_csv(\"http://archive.ics.uci.edu/ml/machine-learning-databases/wine-quality/winequality-red.csv\", sep=';')\n",
        "    # Add `type` column to `red` with value 1\n",
        "    red['type'] = 1\n",
        "\n",
        "    # Add `type` column to `white` with value 0\n",
        "    white['type'] = 0\n",
        "\n",
        "    # Append `white` to `red`\n",
        "    wines = red.append(white, ignore_index=True)\n",
        "\n",
        "    # Specify the data \n",
        "    X=wines.loc[:, wines.columns != 'quality']\n",
        "    # Specify the target labels and flatten the array\n",
        "    y= np.ravel(wines.quality)\n",
        "\n",
        "    X_train, X_test, Y_train, Y_test = train_test_split(X, y, test_size=0.33, random_state=42)\n",
        "    X_train = X_train.astype('float32')\n",
        "    X_test = X_test.astype('float32')\n",
        "    X_train /= 255\n",
        "    X_test /= 255\n",
        "    nb_classes = 10\n",
        "    Y_train = np_utils.to_categorical(Y_train, nb_classes)\n",
        "    Y_test = np_utils.to_categorical(Y_test, nb_classes)\n",
        "    return X_train, Y_train, X_test, Y_test\n"
      ],
      "execution_count": 0,
      "outputs": []
    },
    {
      "cell_type": "markdown",
      "metadata": {
        "id": "OQ6LPrUfDkj5",
        "colab_type": "text"
      },
      "source": [
        ""
      ]
    },
    {
      "cell_type": "code",
      "metadata": {
        "id": "KGqRfZuKDlWA",
        "colab_type": "code",
        "colab": {}
      },
      "source": [
        "import tensorflow as tf\n",
        "\n",
        "from tensorflow.keras.models import Sequential\n",
        "from tensorflow.keras.layers import Dense\n",
        "\n",
        "def model(X_train, Y_train, X_test, Y_test):\n",
        "    '''\n",
        "    Model providing function:\n",
        "    '''\n",
        "    model = Sequential()\n",
        "\n",
        "    model.add(Dense(128, input_shape=(12,)))\n",
        "    model.add(Activation('relu'))\n",
        "    model.add(Dropout({{uniform(0, 1)}}))\n",
        "    model.add(Dense({{choice([32, 64, 128])}}))\n",
        "    model.add(Activation({{choice(['relu', 'sigmoid'])}}))\n",
        "    model.add(Dropout({{uniform(0, 1)}}))\n",
        "\n",
        "    # If we choose 'four', add an additional fourth layer\n",
        "    if {{choice(['three', 'four'])}} == 'four':\n",
        "        model.add(Dense(50))\n",
        "        model.add(Activation('relu'))\n",
        "\n",
        "    model.add(Dense(10))\n",
        "    model.add(Activation('softmax'))\n",
        "\n",
        "    model.compile(loss='categorical_crossentropy',\n",
        "                  optimizer={{choice(['adam', 'sgd'])}},\n",
        "                  metrics=['accuracy'])\n",
        "\n",
        "    model.fit(X_train, Y_train,\n",
        "              batch_size={{choice([64, 128])}},\n",
        "              epochs=5,\n",
        "              verbose=2,\n",
        "              validation_data=(X_test, Y_test))\n",
        "    score, acc = model.evaluate(X_test, Y_test, verbose=0)\n",
        "    print('Test accuracy:', acc)\n",
        "    return {'loss': -acc, 'status': STATUS_OK, 'model': model}"
      ],
      "execution_count": 0,
      "outputs": []
    },
    {
      "cell_type": "markdown",
      "metadata": {
        "id": "B17Vt6cWHMAG",
        "colab_type": "text"
      },
      "source": [
        "To run Hyperas on Google Colab we have to load the file from Drive.."
      ]
    },
    {
      "cell_type": "code",
      "metadata": {
        "id": "aVUTlEeS7WUG",
        "colab_type": "code",
        "colab": {}
      },
      "source": [
        "# Install the PyDrive wrapper & import libraries.\n",
        "!pip install -U -q PyDrive\n",
        "from pydrive.auth import GoogleAuth\n",
        "from pydrive.drive import GoogleDrive\n",
        "from google.colab import auth\n",
        "from oauth2client.client import GoogleCredentials\n",
        "\n",
        "# Authenticate and create the PyDrive client.\n",
        "auth.authenticate_user()\n",
        "gauth = GoogleAuth()\n",
        "gauth.credentials = GoogleCredentials.get_application_default()\n",
        "drive = GoogleDrive(gauth)\n",
        "\n",
        "# Copy/download the file\n",
        "fid = drive.ListFile({'q':\"title='keras-wine.ipynb'\"}).GetList()[0]['id']\n",
        "f = drive.CreateFile({'id': fid})\n",
        "f.GetContentFile('keras-wine.ipynb')"
      ],
      "execution_count": 0,
      "outputs": []
    },
    {
      "cell_type": "code",
      "metadata": {
        "id": "yOwPYW-D5wxa",
        "colab_type": "code",
        "outputId": "1fec7345-50d7-410b-8045-288d75984310",
        "colab": {
          "base_uri": "https://localhost:8080/",
          "height": 1000
        }
      },
      "source": [
        "#BEST run\n",
        "\n",
        "best_run, best_model = optim.minimize(model=model,\n",
        "                                          data=data,\n",
        "                                          max_evals=10,\n",
        "                                          algo=tpe.suggest,\n",
        "                                          notebook_name='keras-wine', # This is important!\n",
        "                                          trials=Trials())\n",
        "\n",
        "X_train, Y_train, X_test, Y_test = data()\n",
        "print(\"Evalutation of best performing model:\")\n",
        "print(best_model.evaluate(X_test, Y_test))\n",
        "print(\"Best performing model chosen hyper-parameters:\")\n",
        "print(best_run)"
      ],
      "execution_count": 89,
      "outputs": [
        {
          "output_type": "stream",
          "text": [
            ">>> Imports:\n",
            "#coding=utf-8\n",
            "\n",
            "from __future__ import print_function\n",
            "\n",
            "try:\n",
            "    from hyperopt import Trials, STATUS_OK, tpe\n",
            "except:\n",
            "    pass\n",
            "\n",
            "try:\n",
            "    from hyperas import optim\n",
            "except:\n",
            "    pass\n",
            "\n",
            "try:\n",
            "    from hyperas.distributions import choice, uniform\n",
            "except:\n",
            "    pass\n",
            "\n",
            "try:\n",
            "    from keras.models import Sequential\n",
            "except:\n",
            "    pass\n",
            "\n",
            "try:\n",
            "    from keras.layers.core import Dense, Dropout, Activation\n",
            "except:\n",
            "    pass\n",
            "\n",
            "try:\n",
            "    from keras.datasets import mnist\n",
            "except:\n",
            "    pass\n",
            "\n",
            "try:\n",
            "    from keras.utils import np_utils\n",
            "except:\n",
            "    pass\n",
            "\n",
            "try:\n",
            "    from pydrive.auth import GoogleAuth\n",
            "except:\n",
            "    pass\n",
            "\n",
            "try:\n",
            "    from pydrive.drive import GoogleDrive\n",
            "except:\n",
            "    pass\n",
            "\n",
            "try:\n",
            "    from google.colab import auth\n",
            "except:\n",
            "    pass\n",
            "\n",
            "try:\n",
            "    from oauth2client.client import GoogleCredentials\n",
            "except:\n",
            "    pass\n",
            "\n",
            ">>> Hyperas search space:\n",
            "\n",
            "def get_space():\n",
            "    return {\n",
            "        'Dropout': hp.uniform('Dropout', 0, 1),\n",
            "        'Dense': hp.choice('Dense', [32, 64, 128]),\n",
            "        'Activation': hp.choice('Activation', ['relu', 'sigmoid']),\n",
            "        'Dropout_1': hp.uniform('Dropout_1', 0, 1),\n",
            "        'Dropout_2': hp.choice('Dropout_2', ['three', 'four']),\n",
            "        'optimizer': hp.choice('optimizer', ['adam', 'sgd']),\n",
            "        'batch_size': hp.choice('batch_size', [64, 128]),\n",
            "    }\n",
            "\n",
            ">>> Data\n",
            "   1: \n",
            "   2: '''\n",
            "   3: Data providing function:\n",
            "   4: '''\n",
            "   5: import numpy as np\n",
            "   6: import pandas as pd\n",
            "   7: from sklearn.model_selection import train_test_split\n",
            "   8: import tensorflow as tf\n",
            "   9: from tensorflow.keras.models import Sequential\n",
            "  10: from tensorflow.keras.layers import Dense, Dropout, Activation\n",
            "  11: \n",
            "  12: # Read in white wine data \n",
            "  13: white = pd.read_csv(\"http://archive.ics.uci.edu/ml/machine-learning-databases/wine-quality/winequality-white.csv\", sep=';')\n",
            "  14: \n",
            "  15: # Read in red wine data \n",
            "  16: red = pd.read_csv(\"http://archive.ics.uci.edu/ml/machine-learning-databases/wine-quality/winequality-red.csv\", sep=';')\n",
            "  17: # Add `type` column to `red` with value 1\n",
            "  18: red['type'] = 1\n",
            "  19: \n",
            "  20: # Add `type` column to `white` with value 0\n",
            "  21: white['type'] = 0\n",
            "  22: \n",
            "  23: # Append `white` to `red`\n",
            "  24: wines = red.append(white, ignore_index=True)\n",
            "  25: \n",
            "  26: # Specify the data \n",
            "  27: X=wines.loc[:, wines.columns != 'quality']\n",
            "  28: # Specify the target labels and flatten the array\n",
            "  29: y= np.ravel(wines.quality)\n",
            "  30: \n",
            "  31: X_train, X_test, Y_train, Y_test = train_test_split(X, y, test_size=0.33, random_state=42)\n",
            "  32: X_train = X_train.astype('float32')\n",
            "  33: X_test = X_test.astype('float32')\n",
            "  34: X_train /= 255\n",
            "  35: X_test /= 255\n",
            "  36: nb_classes = 10\n",
            "  37: Y_train = np_utils.to_categorical(Y_train, nb_classes)\n",
            "  38: Y_test = np_utils.to_categorical(Y_test, nb_classes)\n",
            "  39: \n",
            "  40: \n",
            "  41: \n",
            ">>> Resulting replaced keras model:\n",
            "\n",
            "   1: def keras_fmin_fnct(space):\n",
            "   2: \n",
            "   3:     '''\n",
            "   4:     Model providing function:\n",
            "   5:     '''\n",
            "   6:     model = Sequential()\n",
            "   7: \n",
            "   8:     model.add(Dense(128, input_shape=(12,)))\n",
            "   9:     model.add(Activation('relu'))\n",
            "  10:     model.add(Dropout(space['Dropout']))\n",
            "  11:     model.add(Dense(space['Dense']))\n",
            "  12:     model.add(Activation(space['Activation']))\n",
            "  13:     model.add(Dropout(space['Dropout_1']))\n",
            "  14: \n",
            "  15:     # If we choose 'four', add an additional fourth layer\n",
            "  16:     if space['Dropout_2'] == 'four':\n",
            "  17:         model.add(Dense(50))\n",
            "  18:         model.add(Activation('relu'))\n",
            "  19: \n",
            "  20:     model.add(Dense(10))\n",
            "  21:     model.add(Activation('softmax'))\n",
            "  22: \n",
            "  23:     model.compile(loss='categorical_crossentropy',\n",
            "  24:                   optimizer=space['optimizer'],\n",
            "  25:                   metrics=['accuracy'])\n",
            "  26: \n",
            "  27:     model.fit(X_train, Y_train,\n",
            "  28:               batch_size=space['batch_size'],\n",
            "  29:               epochs=5,\n",
            "  30:               verbose=2,\n",
            "  31:               validation_data=(X_test, Y_test))\n",
            "  32:     score, acc = model.evaluate(X_test, Y_test, verbose=0)\n",
            "  33:     print('Test accuracy:', acc)\n",
            "  34:     return {'loss': -acc, 'status': STATUS_OK, 'model': model}\n",
            "  35: \n",
            "Epoch 1/5\n",
            "34/34 - 0s - loss: 2.0990 - accuracy: 0.2640 - val_loss: 1.7693 - val_accuracy: 0.3133\n",
            "\n",
            "Epoch 2/5\n",
            "34/34 - 0s - loss: 1.6231 - accuracy: 0.3660 - val_loss: 1.3680 - val_accuracy: 0.4555\n",
            "\n",
            "Epoch 3/5\n",
            "34/34 - 0s - loss: 1.4995 - accuracy: 0.3842 - val_loss: 1.3259 - val_accuracy: 0.4555\n",
            "\n",
            "Epoch 4/5\n",
            "34/34 - 0s - loss: 1.4399 - accuracy: 0.3966 - val_loss: 1.3081 - val_accuracy: 0.4555\n",
            "\n",
            "Epoch 5/5\n",
            "34/34 - 0s - loss: 1.4025 - accuracy: 0.3876 - val_loss: 1.2940 - val_accuracy: 0.4555\n",
            "\n",
            "Test accuracy:\n",
            "0.45547786355018616\n",
            "Epoch 1/5\n",
            "68/68 - 0s - loss: 1.4906 - accuracy: 0.3716 - val_loss: 1.2892 - val_accuracy: 0.3133\n",
            "\n",
            "Epoch 2/5\n",
            "68/68 - 0s - loss: 1.3179 - accuracy: 0.3996 - val_loss: 1.2722 - val_accuracy: 0.4555\n",
            "\n",
            "Epoch 3/5\n",
            "68/68 - 0s - loss: 1.3109 - accuracy: 0.4097 - val_loss: 1.2668 - val_accuracy: 0.4555\n",
            "\n",
            "Epoch 4/5\n",
            "68/68 - 0s - loss: 1.3000 - accuracy: 0.4081 - val_loss: 1.2664 - val_accuracy: 0.4555\n",
            "\n",
            "Epoch 5/5\n",
            "68/68 - 0s - loss: 1.3008 - accuracy: 0.4060 - val_loss: 1.2643 - val_accuracy: 0.4555\n",
            "\n",
            "Test accuracy:\n",
            "0.45547786355018616\n",
            "Epoch 1/5\n",
            "68/68 - 0s - loss: 2.1452 - accuracy: 0.3658 - val_loss: 1.9749 - val_accuracy: 0.4555\n",
            "\n",
            "Epoch 2/5\n",
            "68/68 - 0s - loss: 1.8583 - accuracy: 0.4230 - val_loss: 1.6940 - val_accuracy: 0.4555\n",
            "\n",
            "Epoch 3/5\n",
            "68/68 - 0s - loss: 1.6557 - accuracy: 0.4214 - val_loss: 1.5139 - val_accuracy: 0.4555\n",
            "\n",
            "Epoch 4/5\n",
            "68/68 - 0s - loss: 1.5345 - accuracy: 0.4154 - val_loss: 1.4210 - val_accuracy: 0.4555\n",
            "\n",
            "Epoch 5/5\n",
            "68/68 - 0s - loss: 1.4694 - accuracy: 0.4090 - val_loss: 1.3712 - val_accuracy: 0.4555\n",
            "\n",
            "Test accuracy:\n",
            "0.45547786355018616\n",
            "Epoch 1/5\n",
            "34/34 - 0s - loss: 2.2905 - accuracy: 0.1967 - val_loss: 2.1815 - val_accuracy: 0.4555\n",
            "\n",
            "Epoch 2/5\n",
            "34/34 - 0s - loss: 2.1495 - accuracy: 0.3932 - val_loss: 2.0526 - val_accuracy: 0.4555\n",
            "\n",
            "Epoch 3/5\n",
            "34/34 - 0s - loss: 2.0163 - accuracy: 0.4246 - val_loss: 1.9227 - val_accuracy: 0.4555\n",
            "\n",
            "Epoch 4/5\n",
            "34/34 - 0s - loss: 1.8864 - accuracy: 0.4276 - val_loss: 1.7939 - val_accuracy: 0.4555\n",
            "\n",
            "Epoch 5/5\n",
            "34/34 - 0s - loss: 1.7631 - accuracy: 0.4269 - val_loss: 1.6735 - val_accuracy: 0.4555\n",
            "\n",
            "Test accuracy:\n",
            "0.45547786355018616\n",
            "Epoch 1/5\n",
            "68/68 - 0s - loss: 1.7932 - accuracy: 0.3180 - val_loss: 1.3663 - val_accuracy: 0.4555\n",
            "\n",
            "Epoch 2/5\n",
            "68/68 - 0s - loss: 1.3755 - accuracy: 0.4014 - val_loss: 1.3039 - val_accuracy: 0.4555\n",
            "\n",
            "Epoch 3/5\n",
            "68/68 - 0s - loss: 1.3488 - accuracy: 0.3897 - val_loss: 1.2904 - val_accuracy: 0.4555\n",
            "\n",
            "Epoch 4/5\n",
            "68/68 - 0s - loss: 1.3269 - accuracy: 0.4125 - val_loss: 1.2832 - val_accuracy: 0.4555\n",
            "\n",
            "Epoch 5/5\n",
            "68/68 - 0s - loss: 1.3172 - accuracy: 0.4035 - val_loss: 1.2831 - val_accuracy: 0.4555\n",
            "\n",
            "Test accuracy:\n",
            "0.45547786355018616\n",
            "Epoch 1/5\n",
            "34/34 - 0s - loss: 2.4903 - accuracy: 0.1448 - val_loss: 1.5246 - val_accuracy: 0.4555\n",
            "\n",
            "Epoch 2/5\n",
            "34/34 - 0s - loss: 1.7801 - accuracy: 0.3281 - val_loss: 1.3121 - val_accuracy: 0.4555\n",
            "\n",
            "Epoch 3/5\n",
            "34/34 - 0s - loss: 1.5967 - accuracy: 0.3587 - val_loss: 1.2874 - val_accuracy: 0.4555\n",
            "\n",
            "Epoch 4/5\n",
            "34/34 - 0s - loss: 1.4945 - accuracy: 0.3663 - val_loss: 1.2809 - val_accuracy: 0.4555\n",
            "\n",
            "Epoch 5/5\n",
            "34/34 - 0s - loss: 1.4475 - accuracy: 0.3858 - val_loss: 1.2785 - val_accuracy: 0.4555\n",
            "\n",
            "Test accuracy:\n",
            "0.45547786355018616\n",
            "Epoch 1/5\n",
            "34/34 - 0s - loss: 2.0651 - accuracy: 0.1944 - val_loss: 1.7220 - val_accuracy: 0.4555\n",
            "\n",
            "Epoch 2/5\n",
            "34/34 - 0s - loss: 1.7314 - accuracy: 0.3300 - val_loss: 1.5150 - val_accuracy: 0.4555\n",
            "\n",
            "Epoch 3/5\n",
            "34/34 - 0s - loss: 1.5742 - accuracy: 0.3858 - val_loss: 1.4272 - val_accuracy: 0.4555\n",
            "\n",
            "Epoch 4/5\n",
            "34/34 - 0s - loss: 1.5039 - accuracy: 0.3950 - val_loss: 1.3845 - val_accuracy: 0.4555\n",
            "\n",
            "Epoch 5/5\n",
            "34/34 - 0s - loss: 1.4709 - accuracy: 0.3911 - val_loss: 1.3603 - val_accuracy: 0.4555\n",
            "\n",
            "Test accuracy:\n",
            "0.45547786355018616\n",
            "Epoch 1/5\n",
            "34/34 - 0s - loss: 1.9476 - accuracy: 0.4042 - val_loss: 1.4774 - val_accuracy: 0.4555\n",
            "\n",
            "Epoch 2/5\n",
            "34/34 - 0s - loss: 1.3581 - accuracy: 0.4056 - val_loss: 1.3006 - val_accuracy: 0.4555\n",
            "\n",
            "Epoch 3/5\n",
            "34/34 - 0s - loss: 1.2935 - accuracy: 0.4253 - val_loss: 1.2796 - val_accuracy: 0.4555\n",
            "\n",
            "Epoch 4/5\n",
            "34/34 - 0s - loss: 1.2882 - accuracy: 0.4177 - val_loss: 1.2721 - val_accuracy: 0.4555\n",
            "\n",
            "Epoch 5/5\n",
            "34/34 - 0s - loss: 1.2835 - accuracy: 0.4262 - val_loss: 1.2719 - val_accuracy: 0.4555\n",
            "\n",
            "Test accuracy:\n",
            "0.45547786355018616\n",
            "Epoch 1/5\n",
            "34/34 - 0s - loss: 1.9258 - accuracy: 0.2783 - val_loss: 1.4088 - val_accuracy: 0.4555\n",
            "\n",
            "Epoch 2/5\n",
            "34/34 - 0s - loss: 1.4556 - accuracy: 0.3768 - val_loss: 1.3236 - val_accuracy: 0.4555\n",
            "\n",
            "Epoch 3/5\n",
            "34/34 - 0s - loss: 1.3888 - accuracy: 0.3883 - val_loss: 1.2933 - val_accuracy: 0.4555\n",
            "\n",
            "Epoch 4/5\n",
            "34/34 - 0s - loss: 1.3561 - accuracy: 0.3934 - val_loss: 1.2927 - val_accuracy: 0.4555\n",
            "\n",
            "Epoch 5/5\n",
            "34/34 - 0s - loss: 1.3385 - accuracy: 0.3934 - val_loss: 1.2902 - val_accuracy: 0.3133\n",
            "\n",
            "Test accuracy:\n",
            "0.3132867217063904\n",
            "Epoch 1/5\n",
            "68/68 - 0s - loss: 2.0919 - accuracy: 0.3761 - val_loss: 1.8952 - val_accuracy: 0.4555\n",
            "\n",
            "Epoch 2/5\n",
            "68/68 - 0s - loss: 1.7292 - accuracy: 0.4159 - val_loss: 1.5507 - val_accuracy: 0.4555\n",
            "\n",
            "Epoch 3/5\n",
            "68/68 - 0s - loss: 1.4765 - accuracy: 0.4267 - val_loss: 1.3855 - val_accuracy: 0.4555\n",
            "\n",
            "Epoch 4/5\n",
            "68/68 - 0s - loss: 1.3827 - accuracy: 0.4262 - val_loss: 1.3345 - val_accuracy: 0.4555\n",
            "\n",
            "Epoch 5/5\n",
            "68/68 - 0s - loss: 1.3479 - accuracy: 0.4246 - val_loss: 1.3144 - val_accuracy: 0.4555\n",
            "\n",
            "Test accuracy:\n",
            "0.45547786355018616\n",
            "100%|██████████| 10/10 [00:14<00:00,  1.50s/it, best loss: -0.45547786355018616]\n",
            "Evalutation of best performing model:\n",
            "68/68 [==============================] - 0s 1ms/step - loss: 1.2940 - accuracy: 0.4555\n",
            "[1.2939918041229248, 0.45547786355018616]\n",
            "Best performing model chosen hyper-parameters:\n",
            "{'Activation': 0, 'Dense': 1, 'Dropout': 0.7342146978592597, 'Dropout_1': 0.692539034315719, 'Dropout_2': 0, 'batch_size': 1, 'optimizer': 0}\n"
          ],
          "name": "stdout"
        }
      ]
    },
    {
      "cell_type": "code",
      "metadata": {
        "id": "PcpD2dQNCYDO",
        "colab_type": "code",
        "outputId": "ebbe30fc-08d6-49bd-81d7-71344c1aa358",
        "colab": {
          "base_uri": "https://localhost:8080/",
          "height": 136
        }
      },
      "source": [
        "#Lets see\n",
        "best_run"
      ],
      "execution_count": 90,
      "outputs": [
        {
          "output_type": "execute_result",
          "data": {
            "text/plain": [
              "{'Activation': 0,\n",
              " 'Dense': 1,\n",
              " 'Dropout': 0.7342146978592597,\n",
              " 'Dropout_1': 0.692539034315719,\n",
              " 'Dropout_2': 0,\n",
              " 'batch_size': 1,\n",
              " 'optimizer': 0}"
            ]
          },
          "metadata": {
            "tags": []
          },
          "execution_count": 90
        }
      ]
    },
    {
      "cell_type": "code",
      "metadata": {
        "id": "A5qDHxRkHz5F",
        "colab_type": "code",
        "outputId": "82338fa5-b97b-45e7-ba1c-356a65cb0ea5",
        "colab": {
          "base_uri": "https://localhost:8080/",
          "height": 34
        }
      },
      "source": [
        "best_model"
      ],
      "execution_count": 91,
      "outputs": [
        {
          "output_type": "execute_result",
          "data": {
            "text/plain": [
              "<tensorflow.python.keras.engine.sequential.Sequential at 0x7f7ab94d9be0>"
            ]
          },
          "metadata": {
            "tags": []
          },
          "execution_count": 91
        }
      ]
    }
  ]
}